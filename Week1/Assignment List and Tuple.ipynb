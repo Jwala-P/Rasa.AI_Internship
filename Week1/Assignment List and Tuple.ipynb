{
 "cells": [
  {
   "cell_type": "code",
   "execution_count": 5,
   "id": "f497c690-a3b8-481d-a250-29f0ccf80466",
   "metadata": {},
   "outputs": [],
   "source": [
    "import numpy as np\n",
    "import pandas as pd"
   ]
  },
  {
   "cell_type": "code",
   "execution_count": 6,
   "id": "acf16e93-a40d-4780-91e4-42accbd905eb",
   "metadata": {},
   "outputs": [],
   "source": [
    "Student_Marks=[['Name',['A','B','C','D','E']],\n",
    "               ['Ankit',[41,34,45,55,63]],\n",
    "               ['Aravind',[42,23,34,44,53]],\n",
    "               ['Lakshay',[32,23,13,54,67]],\n",
    "               ['Gyan',[23,82,23,63,34]],\n",
    "               ['Pranav',[21,23,25,56,56]]\n",
    "              ]"
   ]
  },
  {
   "cell_type": "code",
   "execution_count": 7,
   "id": "30feaaff-0c59-4efa-9f78-2bf825c9d4b4",
   "metadata": {},
   "outputs": [
    {
     "data": {
      "text/plain": [
       "[['Name', ['A', 'B', 'C', 'D', 'E']],\n",
       " ['Ankit', [41, 34, 45, 55, 63]],\n",
       " ['Aravind', [42, 23, 34, 44, 53]],\n",
       " ['Lakshay', [32, 23, 13, 54, 67]],\n",
       " ['Gyan', [23, 82, 23, 63, 34]],\n",
       " ['Pranav', [21, 23, 25, 56, 56]]]"
      ]
     },
     "execution_count": 7,
     "metadata": {},
     "output_type": "execute_result"
    }
   ],
   "source": [
    "Student_Marks"
   ]
  },
  {
   "cell_type": "code",
   "execution_count": 8,
   "id": "3cafd752-ad73-4efa-a012-6fb97882bded",
   "metadata": {},
   "outputs": [
    {
     "data": {
      "text/plain": [
       "['Aravind', [42, 23, 34, 44, 53]]"
      ]
     },
     "execution_count": 8,
     "metadata": {},
     "output_type": "execute_result"
    }
   ],
   "source": [
    "Student_Marks[2]"
   ]
  },
  {
   "cell_type": "code",
   "execution_count": 9,
   "id": "7faf8ade-7bdd-4eed-a855-fea6da364c65",
   "metadata": {},
   "outputs": [
    {
     "data": {
      "text/plain": [
       "6"
      ]
     },
     "execution_count": 9,
     "metadata": {},
     "output_type": "execute_result"
    }
   ],
   "source": [
    "len(Student_Marks)"
   ]
  },
  {
   "cell_type": "code",
   "execution_count": 10,
   "id": "37e2f568-f094-4c00-bdf5-483a5b2257fd",
   "metadata": {},
   "outputs": [],
   "source": [
    "SM={'Name':['A','B','C','D','E'],\n",
    "               'Ankit':[41,34,45,55,63],\n",
    "               'Aravind':[42,23,34,44,53],\n",
    "               'Lakshay':[32,23,13,54,67],\n",
    "               'Gyan':[23,82,23,63,34],\n",
    "               'Pranav':[21,23,25,56,56]\n",
    "              }"
   ]
  },
  {
   "cell_type": "code",
   "execution_count": 11,
   "id": "d8eeaecf-e7c2-4be7-bdac-653764da7072",
   "metadata": {},
   "outputs": [
    {
     "data": {
      "text/plain": [
       "{'Name': ['A', 'B', 'C', 'D', 'E'],\n",
       " 'Ankit': [41, 34, 45, 55, 63],\n",
       " 'Aravind': [42, 23, 34, 44, 53],\n",
       " 'Lakshay': [32, 23, 13, 54, 67],\n",
       " 'Gyan': [23, 82, 23, 63, 34],\n",
       " 'Pranav': [21, 23, 25, 56, 56]}"
      ]
     },
     "execution_count": 11,
     "metadata": {},
     "output_type": "execute_result"
    }
   ],
   "source": [
    "SM"
   ]
  },
  {
   "cell_type": "code",
   "execution_count": 12,
   "id": "713c649e-22c0-476a-954a-ebedb38a601a",
   "metadata": {},
   "outputs": [],
   "source": [
    "SM=pd.DataFrame(SM)"
   ]
  },
  {
   "cell_type": "code",
   "execution_count": 13,
   "id": "75cfd746-7ed8-4257-a753-e3af360e11a0",
   "metadata": {},
   "outputs": [],
   "source": [
    "sm=SM.set_index('Name').T"
   ]
  },
  {
   "cell_type": "code",
   "execution_count": 14,
   "id": "4597a820-f0f3-4380-8a78-c3a924f2605b",
   "metadata": {},
   "outputs": [
    {
     "data": {
      "text/html": [
       "<div>\n",
       "<style scoped>\n",
       "    .dataframe tbody tr th:only-of-type {\n",
       "        vertical-align: middle;\n",
       "    }\n",
       "\n",
       "    .dataframe tbody tr th {\n",
       "        vertical-align: top;\n",
       "    }\n",
       "\n",
       "    .dataframe thead th {\n",
       "        text-align: right;\n",
       "    }\n",
       "</style>\n",
       "<table border=\"1\" class=\"dataframe\">\n",
       "  <thead>\n",
       "    <tr style=\"text-align: right;\">\n",
       "      <th>Name</th>\n",
       "      <th>A</th>\n",
       "      <th>B</th>\n",
       "      <th>C</th>\n",
       "      <th>D</th>\n",
       "      <th>E</th>\n",
       "    </tr>\n",
       "  </thead>\n",
       "  <tbody>\n",
       "    <tr>\n",
       "      <th>Ankit</th>\n",
       "      <td>41</td>\n",
       "      <td>34</td>\n",
       "      <td>45</td>\n",
       "      <td>55</td>\n",
       "      <td>63</td>\n",
       "    </tr>\n",
       "    <tr>\n",
       "      <th>Aravind</th>\n",
       "      <td>42</td>\n",
       "      <td>23</td>\n",
       "      <td>34</td>\n",
       "      <td>44</td>\n",
       "      <td>53</td>\n",
       "    </tr>\n",
       "    <tr>\n",
       "      <th>Lakshay</th>\n",
       "      <td>32</td>\n",
       "      <td>23</td>\n",
       "      <td>13</td>\n",
       "      <td>54</td>\n",
       "      <td>67</td>\n",
       "    </tr>\n",
       "    <tr>\n",
       "      <th>Gyan</th>\n",
       "      <td>23</td>\n",
       "      <td>82</td>\n",
       "      <td>23</td>\n",
       "      <td>63</td>\n",
       "      <td>34</td>\n",
       "    </tr>\n",
       "    <tr>\n",
       "      <th>Pranav</th>\n",
       "      <td>21</td>\n",
       "      <td>23</td>\n",
       "      <td>25</td>\n",
       "      <td>56</td>\n",
       "      <td>56</td>\n",
       "    </tr>\n",
       "  </tbody>\n",
       "</table>\n",
       "</div>"
      ],
      "text/plain": [
       "Name      A   B   C   D   E\n",
       "Ankit    41  34  45  55  63\n",
       "Aravind  42  23  34  44  53\n",
       "Lakshay  32  23  13  54  67\n",
       "Gyan     23  82  23  63  34\n",
       "Pranav   21  23  25  56  56"
      ]
     },
     "execution_count": 14,
     "metadata": {},
     "output_type": "execute_result"
    }
   ],
   "source": [
    "sm"
   ]
  },
  {
   "cell_type": "code",
   "execution_count": 15,
   "id": "d47d102d-6c35-4524-8e17-6c227b5e429e",
   "metadata": {},
   "outputs": [
    {
     "data": {
      "text/html": [
       "<div>\n",
       "<style scoped>\n",
       "    .dataframe tbody tr th:only-of-type {\n",
       "        vertical-align: middle;\n",
       "    }\n",
       "\n",
       "    .dataframe tbody tr th {\n",
       "        vertical-align: top;\n",
       "    }\n",
       "\n",
       "    .dataframe thead th {\n",
       "        text-align: right;\n",
       "    }\n",
       "</style>\n",
       "<table border=\"1\" class=\"dataframe\">\n",
       "  <thead>\n",
       "    <tr style=\"text-align: right;\">\n",
       "      <th>Name</th>\n",
       "      <th>A</th>\n",
       "      <th>B</th>\n",
       "      <th>C</th>\n",
       "      <th>D</th>\n",
       "      <th>E</th>\n",
       "    </tr>\n",
       "  </thead>\n",
       "  <tbody>\n",
       "    <tr>\n",
       "      <th>Gyan</th>\n",
       "      <td>23</td>\n",
       "      <td>82</td>\n",
       "      <td>23</td>\n",
       "      <td>63</td>\n",
       "      <td>34</td>\n",
       "    </tr>\n",
       "    <tr>\n",
       "      <th>Ankit</th>\n",
       "      <td>41</td>\n",
       "      <td>34</td>\n",
       "      <td>45</td>\n",
       "      <td>55</td>\n",
       "      <td>63</td>\n",
       "    </tr>\n",
       "    <tr>\n",
       "      <th>Aravind</th>\n",
       "      <td>42</td>\n",
       "      <td>23</td>\n",
       "      <td>34</td>\n",
       "      <td>44</td>\n",
       "      <td>53</td>\n",
       "    </tr>\n",
       "    <tr>\n",
       "      <th>Lakshay</th>\n",
       "      <td>32</td>\n",
       "      <td>23</td>\n",
       "      <td>13</td>\n",
       "      <td>54</td>\n",
       "      <td>67</td>\n",
       "    </tr>\n",
       "    <tr>\n",
       "      <th>Pranav</th>\n",
       "      <td>21</td>\n",
       "      <td>23</td>\n",
       "      <td>25</td>\n",
       "      <td>56</td>\n",
       "      <td>56</td>\n",
       "    </tr>\n",
       "  </tbody>\n",
       "</table>\n",
       "</div>"
      ],
      "text/plain": [
       "Name      A   B   C   D   E\n",
       "Gyan     23  82  23  63  34\n",
       "Ankit    41  34  45  55  63\n",
       "Aravind  42  23  34  44  53\n",
       "Lakshay  32  23  13  54  67\n",
       "Pranav   21  23  25  56  56"
      ]
     },
     "execution_count": 15,
     "metadata": {},
     "output_type": "execute_result"
    }
   ],
   "source": [
    "sm.sort_values(by=['B'],ascending=False)"
   ]
  },
  {
   "cell_type": "code",
   "execution_count": 16,
   "id": "acd30a34-6844-4e67-ba1b-0d3cb9c45533",
   "metadata": {},
   "outputs": [],
   "source": [
    "sm=pd.DataFrame(sm)"
   ]
  },
  {
   "cell_type": "code",
   "execution_count": 17,
   "id": "d2acf1af-d6a6-4f68-a53f-623c8fd7bcea",
   "metadata": {},
   "outputs": [],
   "source": [
    "highest_B_Mark=sm['B'].max()\n",
    "highest_B_Mark_Student=sm['B'].idxmax()"
   ]
  },
  {
   "cell_type": "code",
   "execution_count": 18,
   "id": "557afde8-5c16-4060-b1d7-1270960d67d3",
   "metadata": {},
   "outputs": [
    {
     "name": "stdout",
     "output_type": "stream",
     "text": [
      "Gyan scored the highest marks in subject B which was 82.\n"
     ]
    }
   ],
   "source": [
    "print(f\"{highest_B_Mark_Student} scored the highest marks in subject B which was {highest_B_Mark}.\")"
   ]
  },
  {
   "cell_type": "code",
   "execution_count": 19,
   "id": "cdd6a071-d76a-48d7-b728-f0bb08496aba",
   "metadata": {},
   "outputs": [
    {
     "data": {
      "text/plain": [
       "28.0"
      ]
     },
     "execution_count": 19,
     "metadata": {},
     "output_type": "execute_result"
    }
   ],
   "source": [
    "c_avg=sm['C'].mean()\n",
    "c_avg"
   ]
  },
  {
   "cell_type": "code",
   "execution_count": 20,
   "id": "956e1128-7278-4cd6-bacf-bfbefe9ccb53",
   "metadata": {},
   "outputs": [
    {
     "name": "stdout",
     "output_type": "stream",
     "text": [
      "The average marks scored in C is 28.0.\n"
     ]
    }
   ],
   "source": [
    "print(f\"The average marks scored in C is {c_avg}.\")"
   ]
  },
  {
   "cell_type": "code",
   "execution_count": 21,
   "id": "33009929-e70e-48b4-8de2-81dab9f63e9e",
   "metadata": {},
   "outputs": [
    {
     "data": {
      "text/plain": [
       "Ankit      47.6\n",
       "Aravind    39.2\n",
       "Lakshay    37.8\n",
       "Gyan       45.0\n",
       "Pranav     36.2\n",
       "dtype: float64"
      ]
     },
     "execution_count": 21,
     "metadata": {},
     "output_type": "execute_result"
    }
   ],
   "source": [
    "total=sm.sum(axis=1)\n",
    "percentage=(total/500)*100\n",
    "percentage"
   ]
  },
  {
   "cell_type": "code",
   "execution_count": 22,
   "id": "01a6ef2b-50d2-4bb8-b075-e4bcf53a352e",
   "metadata": {},
   "outputs": [
    {
     "name": "stdout",
     "output_type": "stream",
     "text": [
      "The highest percentage is scored by Ankit which is 47.6.\n"
     ]
    }
   ],
   "source": [
    "print(f\"The highest percentage is scored by {percentage.idxmax()} which is {round(percentage.max(),1)}.\")"
   ]
  },
  {
   "cell_type": "code",
   "execution_count": 23,
   "id": "a3678837-76ac-4c16-86bc-8ec9c3785283",
   "metadata": {},
   "outputs": [],
   "source": [
    "Ankit_Aravind=SM.sort_values(by=['Ankit'],ascending=False)"
   ]
  },
  {
   "cell_type": "code",
   "execution_count": 24,
   "id": "c4eb3ccd-e366-42e5-96c6-7659dc02047e",
   "metadata": {},
   "outputs": [
    {
     "data": {
      "text/html": [
       "<div>\n",
       "<style scoped>\n",
       "    .dataframe tbody tr th:only-of-type {\n",
       "        vertical-align: middle;\n",
       "    }\n",
       "\n",
       "    .dataframe tbody tr th {\n",
       "        vertical-align: top;\n",
       "    }\n",
       "\n",
       "    .dataframe thead th {\n",
       "        text-align: right;\n",
       "    }\n",
       "</style>\n",
       "<table border=\"1\" class=\"dataframe\">\n",
       "  <thead>\n",
       "    <tr style=\"text-align: right;\">\n",
       "      <th></th>\n",
       "      <th>Name</th>\n",
       "      <th>Ankit</th>\n",
       "      <th>Aravind</th>\n",
       "      <th>Lakshay</th>\n",
       "      <th>Gyan</th>\n",
       "      <th>Pranav</th>\n",
       "    </tr>\n",
       "  </thead>\n",
       "  <tbody>\n",
       "    <tr>\n",
       "      <th>4</th>\n",
       "      <td>E</td>\n",
       "      <td>63</td>\n",
       "      <td>53</td>\n",
       "      <td>67</td>\n",
       "      <td>34</td>\n",
       "      <td>56</td>\n",
       "    </tr>\n",
       "    <tr>\n",
       "      <th>3</th>\n",
       "      <td>D</td>\n",
       "      <td>55</td>\n",
       "      <td>44</td>\n",
       "      <td>54</td>\n",
       "      <td>63</td>\n",
       "      <td>56</td>\n",
       "    </tr>\n",
       "    <tr>\n",
       "      <th>2</th>\n",
       "      <td>C</td>\n",
       "      <td>45</td>\n",
       "      <td>34</td>\n",
       "      <td>13</td>\n",
       "      <td>23</td>\n",
       "      <td>25</td>\n",
       "    </tr>\n",
       "    <tr>\n",
       "      <th>0</th>\n",
       "      <td>A</td>\n",
       "      <td>41</td>\n",
       "      <td>42</td>\n",
       "      <td>32</td>\n",
       "      <td>23</td>\n",
       "      <td>21</td>\n",
       "    </tr>\n",
       "    <tr>\n",
       "      <th>1</th>\n",
       "      <td>B</td>\n",
       "      <td>34</td>\n",
       "      <td>23</td>\n",
       "      <td>23</td>\n",
       "      <td>82</td>\n",
       "      <td>23</td>\n",
       "    </tr>\n",
       "  </tbody>\n",
       "</table>\n",
       "</div>"
      ],
      "text/plain": [
       "  Name  Ankit  Aravind  Lakshay  Gyan  Pranav\n",
       "4    E     63       53       67    34      56\n",
       "3    D     55       44       54    63      56\n",
       "2    C     45       34       13    23      25\n",
       "0    A     41       42       32    23      21\n",
       "1    B     34       23       23    82      23"
      ]
     },
     "execution_count": 24,
     "metadata": {},
     "output_type": "execute_result"
    }
   ],
   "source": [
    "Ankit_Aravind"
   ]
  },
  {
   "cell_type": "code",
   "execution_count": 56,
   "id": "79d0e850-37e5-4708-a889-1b353146fb7b",
   "metadata": {},
   "outputs": [],
   "source": [
    "sum_Ankit=Ankit_Aravind['Ankit'].head(4).sum()"
   ]
  },
  {
   "cell_type": "code",
   "execution_count": 58,
   "id": "0c24aa7b-e598-46fc-ade5-76ea3c90e138",
   "metadata": {},
   "outputs": [
    {
     "data": {
      "text/plain": [
       "204"
      ]
     },
     "execution_count": 58,
     "metadata": {},
     "output_type": "execute_result"
    }
   ],
   "source": [
    "sum_Ankit"
   ]
  },
  {
   "cell_type": "code",
   "execution_count": 46,
   "id": "10d516a3-3204-4750-840e-60e3a8563584",
   "metadata": {},
   "outputs": [
    {
     "data": {
      "text/plain": [
       "173"
      ]
     },
     "execution_count": 46,
     "metadata": {},
     "output_type": "execute_result"
    }
   ],
   "source": [
    "sum_Aravind=Ankit_Aravind['Aravind'].head(4).sum()\n",
    "sum_Aravind"
   ]
  },
  {
   "cell_type": "code",
   "execution_count": 48,
   "id": "340a89c4-1f9f-4405-8dd1-72a72c6818c5",
   "metadata": {},
   "outputs": [
    {
     "data": {
      "text/html": [
       "<div>\n",
       "<style scoped>\n",
       "    .dataframe tbody tr th:only-of-type {\n",
       "        vertical-align: middle;\n",
       "    }\n",
       "\n",
       "    .dataframe tbody tr th {\n",
       "        vertical-align: top;\n",
       "    }\n",
       "\n",
       "    .dataframe thead th {\n",
       "        text-align: right;\n",
       "    }\n",
       "</style>\n",
       "<table border=\"1\" class=\"dataframe\">\n",
       "  <thead>\n",
       "    <tr style=\"text-align: right;\">\n",
       "      <th></th>\n",
       "      <th>Name</th>\n",
       "      <th>Ankit</th>\n",
       "      <th>Aravind</th>\n",
       "      <th>Lakshay</th>\n",
       "      <th>Gyan</th>\n",
       "      <th>Pranav</th>\n",
       "    </tr>\n",
       "  </thead>\n",
       "  <tbody>\n",
       "    <tr>\n",
       "      <th>4</th>\n",
       "      <td>E</td>\n",
       "      <td>63</td>\n",
       "      <td>53</td>\n",
       "      <td>67</td>\n",
       "      <td>34</td>\n",
       "      <td>56</td>\n",
       "    </tr>\n",
       "    <tr>\n",
       "      <th>3</th>\n",
       "      <td>D</td>\n",
       "      <td>55</td>\n",
       "      <td>44</td>\n",
       "      <td>54</td>\n",
       "      <td>63</td>\n",
       "      <td>56</td>\n",
       "    </tr>\n",
       "    <tr>\n",
       "      <th>0</th>\n",
       "      <td>A</td>\n",
       "      <td>41</td>\n",
       "      <td>42</td>\n",
       "      <td>32</td>\n",
       "      <td>23</td>\n",
       "      <td>21</td>\n",
       "    </tr>\n",
       "    <tr>\n",
       "      <th>1</th>\n",
       "      <td>B</td>\n",
       "      <td>34</td>\n",
       "      <td>23</td>\n",
       "      <td>23</td>\n",
       "      <td>82</td>\n",
       "      <td>23</td>\n",
       "    </tr>\n",
       "    <tr>\n",
       "      <th>2</th>\n",
       "      <td>C</td>\n",
       "      <td>45</td>\n",
       "      <td>34</td>\n",
       "      <td>13</td>\n",
       "      <td>23</td>\n",
       "      <td>25</td>\n",
       "    </tr>\n",
       "  </tbody>\n",
       "</table>\n",
       "</div>"
      ],
      "text/plain": [
       "  Name  Ankit  Aravind  Lakshay  Gyan  Pranav\n",
       "4    E     63       53       67    34      56\n",
       "3    D     55       44       54    63      56\n",
       "0    A     41       42       32    23      21\n",
       "1    B     34       23       23    82      23\n",
       "2    C     45       34       13    23      25"
      ]
     },
     "execution_count": 48,
     "metadata": {},
     "output_type": "execute_result"
    }
   ],
   "source": [
    "Lakshay_Gyan=SM.sort_values(by=['Lakshay'],ascending=False)\n",
    "Lakshay_Gyan"
   ]
  },
  {
   "cell_type": "code",
   "execution_count": 50,
   "id": "48958c24-d27e-4b69-acd9-e4c6bc4ea4e7",
   "metadata": {},
   "outputs": [
    {
     "data": {
      "text/plain": [
       "176"
      ]
     },
     "execution_count": 50,
     "metadata": {},
     "output_type": "execute_result"
    }
   ],
   "source": [
    "Sum_Lakshay=Lakshay_Gyan['Lakshay'].head(4).sum()\n",
    "Sum_Lakshay"
   ]
  },
  {
   "cell_type": "code",
   "execution_count": 52,
   "id": "5c47385e-0e29-4599-89b3-4f890dec999e",
   "metadata": {},
   "outputs": [
    {
     "data": {
      "text/plain": [
       "202"
      ]
     },
     "execution_count": 52,
     "metadata": {},
     "output_type": "execute_result"
    }
   ],
   "source": [
    "Sum_Gyan=Lakshay_Gyan['Gyan'].head(4).sum()\n",
    "Sum_Gyan"
   ]
  },
  {
   "cell_type": "code",
   "execution_count": 29,
   "id": "20f77a63-3412-444e-9221-16f2606abc4b",
   "metadata": {},
   "outputs": [
    {
     "data": {
      "text/html": [
       "<div>\n",
       "<style scoped>\n",
       "    .dataframe tbody tr th:only-of-type {\n",
       "        vertical-align: middle;\n",
       "    }\n",
       "\n",
       "    .dataframe tbody tr th {\n",
       "        vertical-align: top;\n",
       "    }\n",
       "\n",
       "    .dataframe thead th {\n",
       "        text-align: right;\n",
       "    }\n",
       "</style>\n",
       "<table border=\"1\" class=\"dataframe\">\n",
       "  <thead>\n",
       "    <tr style=\"text-align: right;\">\n",
       "      <th></th>\n",
       "      <th>Name</th>\n",
       "      <th>Ankit</th>\n",
       "      <th>Aravind</th>\n",
       "      <th>Lakshay</th>\n",
       "      <th>Gyan</th>\n",
       "      <th>Pranav</th>\n",
       "    </tr>\n",
       "  </thead>\n",
       "  <tbody>\n",
       "    <tr>\n",
       "      <th>3</th>\n",
       "      <td>D</td>\n",
       "      <td>55</td>\n",
       "      <td>44</td>\n",
       "      <td>54</td>\n",
       "      <td>63</td>\n",
       "      <td>56</td>\n",
       "    </tr>\n",
       "    <tr>\n",
       "      <th>4</th>\n",
       "      <td>E</td>\n",
       "      <td>63</td>\n",
       "      <td>53</td>\n",
       "      <td>67</td>\n",
       "      <td>34</td>\n",
       "      <td>56</td>\n",
       "    </tr>\n",
       "    <tr>\n",
       "      <th>2</th>\n",
       "      <td>C</td>\n",
       "      <td>45</td>\n",
       "      <td>34</td>\n",
       "      <td>13</td>\n",
       "      <td>23</td>\n",
       "      <td>25</td>\n",
       "    </tr>\n",
       "    <tr>\n",
       "      <th>1</th>\n",
       "      <td>B</td>\n",
       "      <td>34</td>\n",
       "      <td>23</td>\n",
       "      <td>23</td>\n",
       "      <td>82</td>\n",
       "      <td>23</td>\n",
       "    </tr>\n",
       "    <tr>\n",
       "      <th>0</th>\n",
       "      <td>A</td>\n",
       "      <td>41</td>\n",
       "      <td>42</td>\n",
       "      <td>32</td>\n",
       "      <td>23</td>\n",
       "      <td>21</td>\n",
       "    </tr>\n",
       "  </tbody>\n",
       "</table>\n",
       "</div>"
      ],
      "text/plain": [
       "  Name  Ankit  Aravind  Lakshay  Gyan  Pranav\n",
       "3    D     55       44       54    63      56\n",
       "4    E     63       53       67    34      56\n",
       "2    C     45       34       13    23      25\n",
       "1    B     34       23       23    82      23\n",
       "0    A     41       42       32    23      21"
      ]
     },
     "execution_count": 29,
     "metadata": {},
     "output_type": "execute_result"
    }
   ],
   "source": [
    "Pranav=SM.sort_values(by=['Pranav'],ascending=False)\n",
    "Pranav"
   ]
  },
  {
   "cell_type": "code",
   "execution_count": 70,
   "id": "ac4a45e3-b2dc-4cd4-869f-801f5b019fd9",
   "metadata": {},
   "outputs": [
    {
     "data": {
      "text/plain": [
       "160"
      ]
     },
     "execution_count": 70,
     "metadata": {},
     "output_type": "execute_result"
    }
   ],
   "source": [
    "Sum_Pranav=Pranav['Pranav'].head(4).sum()\n",
    "Sum_Pranav"
   ]
  },
  {
   "cell_type": "code",
   "execution_count": 60,
   "id": "596457d7-c474-417f-a0fd-0a290830f995",
   "metadata": {},
   "outputs": [
    {
     "data": {
      "text/plain": [
       "0.51"
      ]
     },
     "execution_count": 60,
     "metadata": {},
     "output_type": "execute_result"
    }
   ],
   "source": [
    "Percent_Ankit = sum_Ankit/400\n",
    "Percent_Ankit"
   ]
  },
  {
   "cell_type": "code",
   "execution_count": 62,
   "id": "91a67852-5a4b-43a4-bebb-e0f3152f4214",
   "metadata": {},
   "outputs": [
    {
     "data": {
      "text/plain": [
       "0.4325"
      ]
     },
     "execution_count": 62,
     "metadata": {},
     "output_type": "execute_result"
    }
   ],
   "source": [
    "Percent_Aravind = sum_Aravind/400\n",
    "Percent_Aravind"
   ]
  },
  {
   "cell_type": "code",
   "execution_count": 64,
   "id": "b695a4ea-1c27-49b5-b3e6-a50b4e5ad0fe",
   "metadata": {},
   "outputs": [
    {
     "data": {
      "text/plain": [
       "0.44"
      ]
     },
     "execution_count": 64,
     "metadata": {},
     "output_type": "execute_result"
    }
   ],
   "source": [
    "Percent_Lakshay = Sum_Lakshay/400\n",
    "Percent_Lakshay"
   ]
  },
  {
   "cell_type": "code",
   "execution_count": 66,
   "id": "19d3db22-4a32-4f88-9938-5e029560f405",
   "metadata": {},
   "outputs": [
    {
     "data": {
      "text/plain": [
       "0.505"
      ]
     },
     "execution_count": 66,
     "metadata": {},
     "output_type": "execute_result"
    }
   ],
   "source": [
    "Percent_Gyan = Sum_Gyan/400\n",
    "Percent_Gyan"
   ]
  },
  {
   "cell_type": "code",
   "execution_count": 72,
   "id": "03d1e0fc-cc7f-485b-a635-ae10e1ee4e61",
   "metadata": {},
   "outputs": [
    {
     "data": {
      "text/plain": [
       "0.4"
      ]
     },
     "execution_count": 72,
     "metadata": {},
     "output_type": "execute_result"
    }
   ],
   "source": [
    "Percent_Pranav = Sum_Pranav/400\n",
    "Percent_Pranav"
   ]
  },
  {
   "cell_type": "code",
   "execution_count": 78,
   "id": "e58dc33a-c318-41c6-a5ca-385a1270d741",
   "metadata": {},
   "outputs": [
    {
     "data": {
      "text/plain": [
       "0.51"
      ]
     },
     "execution_count": 78,
     "metadata": {},
     "output_type": "execute_result"
    }
   ],
   "source": [
    "Percent_Max_4subjects=max(Percent_Ankit,Percent_Aravind,Percent_Lakshay,Percent_Gyan,Percent_Pranav)\n",
    "Percent_Max_4subjects"
   ]
  },
  {
   "cell_type": "code",
   "execution_count": 80,
   "id": "8c3042c5-7564-43ee-9e22-e48d71a393df",
   "metadata": {},
   "outputs": [
    {
     "name": "stdout",
     "output_type": "stream",
     "text": [
      "The highest percentage is scored by Ankit and it is 0.510.\n"
     ]
    }
   ],
   "source": [
    "print(f\"The highest percentage is scored by Ankit and it is %0.03f.\" %(Percent_Max_4subjects))"
   ]
  }
 ],
 "metadata": {
  "kernelspec": {
   "display_name": "Python [conda env:base] *",
   "language": "python",
   "name": "conda-base-py"
  },
  "language_info": {
   "codemirror_mode": {
    "name": "ipython",
    "version": 3
   },
   "file_extension": ".py",
   "mimetype": "text/x-python",
   "name": "python",
   "nbconvert_exporter": "python",
   "pygments_lexer": "ipython3",
   "version": "3.12.7"
  }
 },
 "nbformat": 4,
 "nbformat_minor": 5
}
