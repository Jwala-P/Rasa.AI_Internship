{
 "cells": [
  {
   "cell_type": "code",
   "execution_count": 295,
   "id": "f497c690-a3b8-481d-a250-29f0ccf80466",
   "metadata": {},
   "outputs": [],
   "source": [
    "import numpy as np\n",
    "import pandas as pd"
   ]
  },
  {
   "cell_type": "code",
   "execution_count": 37,
   "id": "acf16e93-a40d-4780-91e4-42accbd905eb",
   "metadata": {},
   "outputs": [],
   "source": [
    "Student_Marks=[['Name',['A','B','C','D','E']],\n",
    "               ['Ankit',[41,34,45,55,63]],\n",
    "               ['Aravind',[42,23,34,44,53]],\n",
    "               ['Lakshay',[32,23,13,54,67]],\n",
    "               ['Gyan',[23,82,23,63,34]],\n",
    "               ['Pranav',[21,23,25,56,56]]\n",
    "              ]"
   ]
  },
  {
   "cell_type": "code",
   "execution_count": 39,
   "id": "30feaaff-0c59-4efa-9f78-2bf825c9d4b4",
   "metadata": {},
   "outputs": [
    {
     "data": {
      "text/plain": [
       "[['Name', ['A', 'B', 'C', 'D', 'E']],\n",
       " ['Ankit', [41, 34, 45, 55, 63]],\n",
       " ['Aravind', [42, 23, 34, 44, 53]],\n",
       " ['Lakshay', [32, 23, 13, 54, 67]],\n",
       " ['Gyan', [23, 82, 23, 63, 34]],\n",
       " ['Pranav', [21, 23, 25, 56, 56]]]"
      ]
     },
     "execution_count": 39,
     "metadata": {},
     "output_type": "execute_result"
    }
   ],
   "source": [
    "Student_Marks"
   ]
  },
  {
   "cell_type": "code",
   "execution_count": 43,
   "id": "3cafd752-ad73-4efa-a012-6fb97882bded",
   "metadata": {},
   "outputs": [
    {
     "data": {
      "text/plain": [
       "['Aravind', [42, 23, 34, 44, 53]]"
      ]
     },
     "execution_count": 43,
     "metadata": {},
     "output_type": "execute_result"
    }
   ],
   "source": [
    "Student_Marks[2]"
   ]
  },
  {
   "cell_type": "code",
   "execution_count": 103,
   "id": "7faf8ade-7bdd-4eed-a855-fea6da364c65",
   "metadata": {},
   "outputs": [
    {
     "data": {
      "text/plain": [
       "6"
      ]
     },
     "execution_count": 103,
     "metadata": {},
     "output_type": "execute_result"
    }
   ],
   "source": [
    "len(Student_Marks)"
   ]
  },
  {
   "cell_type": "code",
   "execution_count": 253,
   "id": "37e2f568-f094-4c00-bdf5-483a5b2257fd",
   "metadata": {},
   "outputs": [],
   "source": [
    "SM={'Name':['A','B','C','D','E'],\n",
    "               'Ankit':[41,34,45,55,63],\n",
    "               'Aravind':[42,23,34,44,53],\n",
    "               'Lakshay':[32,23,13,54,67],\n",
    "               'Gyan':[23,82,23,63,34],\n",
    "               'Pranav':[21,23,25,56,56]\n",
    "              }"
   ]
  },
  {
   "cell_type": "code",
   "execution_count": 259,
   "id": "d8eeaecf-e7c2-4be7-bdac-653764da7072",
   "metadata": {},
   "outputs": [
    {
     "data": {
      "text/html": [
       "<div>\n",
       "<style scoped>\n",
       "    .dataframe tbody tr th:only-of-type {\n",
       "        vertical-align: middle;\n",
       "    }\n",
       "\n",
       "    .dataframe tbody tr th {\n",
       "        vertical-align: top;\n",
       "    }\n",
       "\n",
       "    .dataframe thead th {\n",
       "        text-align: right;\n",
       "    }\n",
       "</style>\n",
       "<table border=\"1\" class=\"dataframe\">\n",
       "  <thead>\n",
       "    <tr style=\"text-align: right;\">\n",
       "      <th></th>\n",
       "      <th>Name</th>\n",
       "      <th>Ankit</th>\n",
       "      <th>Aravind</th>\n",
       "      <th>Lakshay</th>\n",
       "      <th>Gyan</th>\n",
       "      <th>Pranav</th>\n",
       "    </tr>\n",
       "  </thead>\n",
       "  <tbody>\n",
       "    <tr>\n",
       "      <th>0</th>\n",
       "      <td>A</td>\n",
       "      <td>41</td>\n",
       "      <td>42</td>\n",
       "      <td>32</td>\n",
       "      <td>23</td>\n",
       "      <td>21</td>\n",
       "    </tr>\n",
       "    <tr>\n",
       "      <th>1</th>\n",
       "      <td>B</td>\n",
       "      <td>34</td>\n",
       "      <td>23</td>\n",
       "      <td>23</td>\n",
       "      <td>82</td>\n",
       "      <td>23</td>\n",
       "    </tr>\n",
       "    <tr>\n",
       "      <th>2</th>\n",
       "      <td>C</td>\n",
       "      <td>45</td>\n",
       "      <td>34</td>\n",
       "      <td>13</td>\n",
       "      <td>23</td>\n",
       "      <td>25</td>\n",
       "    </tr>\n",
       "    <tr>\n",
       "      <th>3</th>\n",
       "      <td>D</td>\n",
       "      <td>55</td>\n",
       "      <td>44</td>\n",
       "      <td>54</td>\n",
       "      <td>63</td>\n",
       "      <td>56</td>\n",
       "    </tr>\n",
       "    <tr>\n",
       "      <th>4</th>\n",
       "      <td>E</td>\n",
       "      <td>63</td>\n",
       "      <td>53</td>\n",
       "      <td>67</td>\n",
       "      <td>34</td>\n",
       "      <td>56</td>\n",
       "    </tr>\n",
       "  </tbody>\n",
       "</table>\n",
       "</div>"
      ],
      "text/plain": [
       "  Name  Ankit  Aravind  Lakshay  Gyan  Pranav\n",
       "0    A     41       42       32    23      21\n",
       "1    B     34       23       23    82      23\n",
       "2    C     45       34       13    23      25\n",
       "3    D     55       44       54    63      56\n",
       "4    E     63       53       67    34      56"
      ]
     },
     "execution_count": 259,
     "metadata": {},
     "output_type": "execute_result"
    }
   ],
   "source": [
    "SM"
   ]
  },
  {
   "cell_type": "code",
   "execution_count": 307,
   "id": "713c649e-22c0-476a-954a-ebedb38a601a",
   "metadata": {},
   "outputs": [],
   "source": [
    "SM=pd.DataFrame(SM)"
   ]
  },
  {
   "cell_type": "code",
   "execution_count": 313,
   "id": "75cfd746-7ed8-4257-a753-e3af360e11a0",
   "metadata": {},
   "outputs": [],
   "source": [
    "sm=SM.set_index('Name').T"
   ]
  },
  {
   "cell_type": "code",
   "execution_count": 316,
   "id": "4597a820-f0f3-4380-8a78-c3a924f2605b",
   "metadata": {},
   "outputs": [
    {
     "data": {
      "text/html": [
       "<div>\n",
       "<style scoped>\n",
       "    .dataframe tbody tr th:only-of-type {\n",
       "        vertical-align: middle;\n",
       "    }\n",
       "\n",
       "    .dataframe tbody tr th {\n",
       "        vertical-align: top;\n",
       "    }\n",
       "\n",
       "    .dataframe thead th {\n",
       "        text-align: right;\n",
       "    }\n",
       "</style>\n",
       "<table border=\"1\" class=\"dataframe\">\n",
       "  <thead>\n",
       "    <tr style=\"text-align: right;\">\n",
       "      <th>Name</th>\n",
       "      <th>A</th>\n",
       "      <th>B</th>\n",
       "      <th>C</th>\n",
       "      <th>D</th>\n",
       "      <th>E</th>\n",
       "    </tr>\n",
       "  </thead>\n",
       "  <tbody>\n",
       "    <tr>\n",
       "      <th>Ankit</th>\n",
       "      <td>41</td>\n",
       "      <td>34</td>\n",
       "      <td>45</td>\n",
       "      <td>55</td>\n",
       "      <td>63</td>\n",
       "    </tr>\n",
       "    <tr>\n",
       "      <th>Aravind</th>\n",
       "      <td>42</td>\n",
       "      <td>23</td>\n",
       "      <td>34</td>\n",
       "      <td>44</td>\n",
       "      <td>53</td>\n",
       "    </tr>\n",
       "    <tr>\n",
       "      <th>Lakshay</th>\n",
       "      <td>32</td>\n",
       "      <td>23</td>\n",
       "      <td>13</td>\n",
       "      <td>54</td>\n",
       "      <td>67</td>\n",
       "    </tr>\n",
       "    <tr>\n",
       "      <th>Gyan</th>\n",
       "      <td>23</td>\n",
       "      <td>82</td>\n",
       "      <td>23</td>\n",
       "      <td>63</td>\n",
       "      <td>34</td>\n",
       "    </tr>\n",
       "    <tr>\n",
       "      <th>Pranav</th>\n",
       "      <td>21</td>\n",
       "      <td>23</td>\n",
       "      <td>25</td>\n",
       "      <td>56</td>\n",
       "      <td>56</td>\n",
       "    </tr>\n",
       "  </tbody>\n",
       "</table>\n",
       "</div>"
      ],
      "text/plain": [
       "Name      A   B   C   D   E\n",
       "Ankit    41  34  45  55  63\n",
       "Aravind  42  23  34  44  53\n",
       "Lakshay  32  23  13  54  67\n",
       "Gyan     23  82  23  63  34\n",
       "Pranav   21  23  25  56  56"
      ]
     },
     "execution_count": 316,
     "metadata": {},
     "output_type": "execute_result"
    }
   ],
   "source": [
    "sm"
   ]
  },
  {
   "cell_type": "code",
   "execution_count": 330,
   "id": "d47d102d-6c35-4524-8e17-6c227b5e429e",
   "metadata": {},
   "outputs": [
    {
     "data": {
      "text/html": [
       "<div>\n",
       "<style scoped>\n",
       "    .dataframe tbody tr th:only-of-type {\n",
       "        vertical-align: middle;\n",
       "    }\n",
       "\n",
       "    .dataframe tbody tr th {\n",
       "        vertical-align: top;\n",
       "    }\n",
       "\n",
       "    .dataframe thead th {\n",
       "        text-align: right;\n",
       "    }\n",
       "</style>\n",
       "<table border=\"1\" class=\"dataframe\">\n",
       "  <thead>\n",
       "    <tr style=\"text-align: right;\">\n",
       "      <th>Name</th>\n",
       "      <th>A</th>\n",
       "      <th>B</th>\n",
       "      <th>C</th>\n",
       "      <th>D</th>\n",
       "      <th>E</th>\n",
       "    </tr>\n",
       "  </thead>\n",
       "  <tbody>\n",
       "    <tr>\n",
       "      <th>Gyan</th>\n",
       "      <td>23</td>\n",
       "      <td>82</td>\n",
       "      <td>23</td>\n",
       "      <td>63</td>\n",
       "      <td>34</td>\n",
       "    </tr>\n",
       "    <tr>\n",
       "      <th>Ankit</th>\n",
       "      <td>41</td>\n",
       "      <td>34</td>\n",
       "      <td>45</td>\n",
       "      <td>55</td>\n",
       "      <td>63</td>\n",
       "    </tr>\n",
       "    <tr>\n",
       "      <th>Aravind</th>\n",
       "      <td>42</td>\n",
       "      <td>23</td>\n",
       "      <td>34</td>\n",
       "      <td>44</td>\n",
       "      <td>53</td>\n",
       "    </tr>\n",
       "    <tr>\n",
       "      <th>Lakshay</th>\n",
       "      <td>32</td>\n",
       "      <td>23</td>\n",
       "      <td>13</td>\n",
       "      <td>54</td>\n",
       "      <td>67</td>\n",
       "    </tr>\n",
       "    <tr>\n",
       "      <th>Pranav</th>\n",
       "      <td>21</td>\n",
       "      <td>23</td>\n",
       "      <td>25</td>\n",
       "      <td>56</td>\n",
       "      <td>56</td>\n",
       "    </tr>\n",
       "  </tbody>\n",
       "</table>\n",
       "</div>"
      ],
      "text/plain": [
       "Name      A   B   C   D   E\n",
       "Gyan     23  82  23  63  34\n",
       "Ankit    41  34  45  55  63\n",
       "Aravind  42  23  34  44  53\n",
       "Lakshay  32  23  13  54  67\n",
       "Pranav   21  23  25  56  56"
      ]
     },
     "execution_count": 330,
     "metadata": {},
     "output_type": "execute_result"
    }
   ],
   "source": [
    "sm.sort_values(by=['B'],ascending=False)"
   ]
  },
  {
   "cell_type": "code",
   "execution_count": 352,
   "id": "acd30a34-6844-4e67-ba1b-0d3cb9c45533",
   "metadata": {},
   "outputs": [],
   "source": [
    "sm=pd.DataFrame(sm)"
   ]
  },
  {
   "cell_type": "code",
   "execution_count": 358,
   "id": "d2acf1af-d6a6-4f68-a53f-623c8fd7bcea",
   "metadata": {},
   "outputs": [],
   "source": [
    "highest_B_Mark=sm['B'].max()\n",
    "highest_B_Mark_Student=sm['B'].idxmax()"
   ]
  },
  {
   "cell_type": "code",
   "execution_count": 362,
   "id": "557afde8-5c16-4060-b1d7-1270960d67d3",
   "metadata": {},
   "outputs": [
    {
     "name": "stdout",
     "output_type": "stream",
     "text": [
      "Gyan scored the highest marks in subject B which was 82.\n"
     ]
    }
   ],
   "source": [
    "print(f\"{highest_B_Mark_Student} scored the highest marks in subject B which was {highest_B_Mark}.\")"
   ]
  },
  {
   "cell_type": "code",
   "execution_count": 370,
   "id": "cdd6a071-d76a-48d7-b728-f0bb08496aba",
   "metadata": {},
   "outputs": [
    {
     "data": {
      "text/plain": [
       "28.0"
      ]
     },
     "execution_count": 370,
     "metadata": {},
     "output_type": "execute_result"
    }
   ],
   "source": [
    "c_avg=sm['C'].mean()\n",
    "c_avg"
   ]
  },
  {
   "cell_type": "code",
   "execution_count": 372,
   "id": "956e1128-7278-4cd6-bacf-bfbefe9ccb53",
   "metadata": {},
   "outputs": [
    {
     "name": "stdout",
     "output_type": "stream",
     "text": [
      "The average marks scored in C is 28.0.\n"
     ]
    }
   ],
   "source": [
    "print(f\"The average marks scored in C is {c_avg}.\")"
   ]
  },
  {
   "cell_type": "code",
   "execution_count": 400,
   "id": "33009929-e70e-48b4-8de2-81dab9f63e9e",
   "metadata": {},
   "outputs": [
    {
     "data": {
      "text/plain": [
       "Ankit      47.6\n",
       "Aravind    39.2\n",
       "Lakshay    37.8\n",
       "Gyan       45.0\n",
       "Pranav     36.2\n",
       "dtype: float64"
      ]
     },
     "execution_count": 400,
     "metadata": {},
     "output_type": "execute_result"
    }
   ],
   "source": [
    "total=sm.sum(axis=1)\n",
    "percentage=(total/500)*100\n",
    "percentage"
   ]
  },
  {
   "cell_type": "code",
   "execution_count": 420,
   "id": "01a6ef2b-50d2-4bb8-b075-e4bcf53a352e",
   "metadata": {},
   "outputs": [
    {
     "name": "stdout",
     "output_type": "stream",
     "text": [
      "The highest percentage is scored by Ankit which is 47.6.\n"
     ]
    }
   ],
   "source": [
    "print(f\"The highest percentage is scored by {percentage.idxmax()} which is {round(percentage.max(),1)}.\")"
   ]
  },
  {
   "cell_type": "code",
   "execution_count": 424,
   "id": "a3678837-76ac-4c16-86bc-8ec9c3785283",
   "metadata": {},
   "outputs": [
    {
     "data": {
      "text/html": [
       "<div>\n",
       "<style scoped>\n",
       "    .dataframe tbody tr th:only-of-type {\n",
       "        vertical-align: middle;\n",
       "    }\n",
       "\n",
       "    .dataframe tbody tr th {\n",
       "        vertical-align: top;\n",
       "    }\n",
       "\n",
       "    .dataframe thead th {\n",
       "        text-align: right;\n",
       "    }\n",
       "</style>\n",
       "<table border=\"1\" class=\"dataframe\">\n",
       "  <thead>\n",
       "    <tr style=\"text-align: right;\">\n",
       "      <th></th>\n",
       "      <th>Name</th>\n",
       "      <th>Ankit</th>\n",
       "      <th>Aravind</th>\n",
       "      <th>Lakshay</th>\n",
       "      <th>Gyan</th>\n",
       "      <th>Pranav</th>\n",
       "    </tr>\n",
       "  </thead>\n",
       "  <tbody>\n",
       "    <tr>\n",
       "      <th>0</th>\n",
       "      <td>A</td>\n",
       "      <td>41</td>\n",
       "      <td>42</td>\n",
       "      <td>32</td>\n",
       "      <td>23</td>\n",
       "      <td>21</td>\n",
       "    </tr>\n",
       "    <tr>\n",
       "      <th>1</th>\n",
       "      <td>B</td>\n",
       "      <td>34</td>\n",
       "      <td>23</td>\n",
       "      <td>23</td>\n",
       "      <td>82</td>\n",
       "      <td>23</td>\n",
       "    </tr>\n",
       "    <tr>\n",
       "      <th>2</th>\n",
       "      <td>C</td>\n",
       "      <td>45</td>\n",
       "      <td>34</td>\n",
       "      <td>13</td>\n",
       "      <td>23</td>\n",
       "      <td>25</td>\n",
       "    </tr>\n",
       "    <tr>\n",
       "      <th>3</th>\n",
       "      <td>D</td>\n",
       "      <td>55</td>\n",
       "      <td>44</td>\n",
       "      <td>54</td>\n",
       "      <td>63</td>\n",
       "      <td>56</td>\n",
       "    </tr>\n",
       "    <tr>\n",
       "      <th>4</th>\n",
       "      <td>E</td>\n",
       "      <td>63</td>\n",
       "      <td>53</td>\n",
       "      <td>67</td>\n",
       "      <td>34</td>\n",
       "      <td>56</td>\n",
       "    </tr>\n",
       "  </tbody>\n",
       "</table>\n",
       "</div>"
      ],
      "text/plain": [
       "  Name  Ankit  Aravind  Lakshay  Gyan  Pranav\n",
       "0    A     41       42       32    23      21\n",
       "1    B     34       23       23    82      23\n",
       "2    C     45       34       13    23      25\n",
       "3    D     55       44       54    63      56\n",
       "4    E     63       53       67    34      56"
      ]
     },
     "execution_count": 424,
     "metadata": {},
     "output_type": "execute_result"
    }
   ],
   "source": [
    "SM"
   ]
  },
  {
   "cell_type": "code",
   "execution_count": null,
   "id": "79d0e850-37e5-4708-a889-1b353146fb7b",
   "metadata": {},
   "outputs": [],
   "source": []
  },
  {
   "cell_type": "code",
   "execution_count": null,
   "id": "0c24aa7b-e598-46fc-ade5-76ea3c90e138",
   "metadata": {},
   "outputs": [],
   "source": []
  },
  {
   "cell_type": "code",
   "execution_count": null,
   "id": "340a89c4-1f9f-4405-8dd1-72a72c6818c5",
   "metadata": {},
   "outputs": [],
   "source": []
  }
 ],
 "metadata": {
  "kernelspec": {
   "display_name": "Python [conda env:base] *",
   "language": "python",
   "name": "conda-base-py"
  },
  "language_info": {
   "codemirror_mode": {
    "name": "ipython",
    "version": 3
   },
   "file_extension": ".py",
   "mimetype": "text/x-python",
   "name": "python",
   "nbconvert_exporter": "python",
   "pygments_lexer": "ipython3",
   "version": "3.12.7"
  }
 },
 "nbformat": 4,
 "nbformat_minor": 5
}
