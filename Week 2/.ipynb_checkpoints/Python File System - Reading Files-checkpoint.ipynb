{
 "cells": [
  {
   "cell_type": "markdown",
   "id": "5cc6c8dc-d871-4949-a659-580286b46fa8",
   "metadata": {},
   "source": [
    "## Python File System - Reading Files"
   ]
  },
  {
   "cell_type": "code",
   "execution_count": 66,
   "id": "bd7ff2fb-5ca3-44c4-9789-fa97235b7e40",
   "metadata": {},
   "outputs": [
    {
     "name": "stdin",
     "output_type": "stream",
     "text": [
      "\n",
      "Enter some text into the document: This is the first sentence. Here is the second sentence. Python is great.\n"
     ]
    },
    {
     "name": "stdout",
     "output_type": "stream",
     "text": [
      "\n",
      "\n",
      " This is the first sentence. Here is the second sentence. Python is great.\n"
     ]
    }
   ],
   "source": [
    "# Part1\n",
    "# Basic File Reading\n",
    "\n",
    "text = input(\"\\nEnter some text into the document:\")\n",
    "with open(\"sample.txt\", \"w\") as f:\n",
    "    f.write(text)\n",
    "\n",
    "with open(\"sample.txt\", \"r\") as f:\n",
    "    content = f.read()\n",
    "    print(\"\\n\\n\",content)"
   ]
  },
  {
   "cell_type": "code",
   "execution_count": 24,
   "id": "14b66150-3139-46ad-8875-ef94c6784189",
   "metadata": {},
   "outputs": [
    {
     "name": "stdin",
     "output_type": "stream",
     "text": [
      "\n",
      "Enter some text into the document: Emerging silently from the dawn-hued mist, the Flux Dev hovers inches above a mirror-still alien ocean — a gravitational leviathan of steel, precision, and purpose. Its surface is an angular labyrinth of tiered armor plating, shaped not for air resistance but for dimensional stability. Warm, amber-lit vents flicker along its underside like the breath of a sleeping giant, hinting at the immense energy cycling through its reactor core.\n"
     ]
    },
    {
     "name": "stdout",
     "output_type": "stream",
     "text": [
      "\n",
      "The file contains the following:\n",
      "\n",
      " Emerging silently from the dawn-hued mist, the Flux Dev hovers inches above a mirror-still alien ocean — a gravitational leviathan of steel, precision, and purpose. Its surface is an angular labyrinth of tiered armor plating, shaped not for air resistance but for dimensional stability. Warm, amber-lit vents flicker along its underside like the breath of a sleeping giant, hinting at the immense energy cycling through its reactor core.\n"
     ]
    }
   ],
   "source": [
    "# Notes.txt (Emerging silently from the dawn-hued mist, the Flux Dev hovers inches above a mirror-still alien ocean — a gravitational leviathan of steel, precision, and purpose. Its surface is an angular labyrinth of tiered armor plating, shaped not for air resistance but for dimensional stability. Warm, amber-lit vents flicker along its underside like the breath of a sleeping giant, hinting at the immense energy cycling through its reactor core.)\n",
    "\n",
    "text1 = input(\"\\nEnter some text into the document:\")\n",
    "\n",
    "with open(\"Notes.txt\",\"w\") as file:\n",
    "    file.write(text1)\n",
    "\n",
    "with open(\"Notes.txt\",\"r\") as file:\n",
    "    content=file.read()\n",
    "    print(\"\\nThe file contains the following:\\n\\n\",content)"
   ]
  },
  {
   "cell_type": "code",
   "execution_count": 68,
   "id": "b4b3d63d-fd06-4ede-bdf0-f3397f45ef66",
   "metadata": {},
   "outputs": [
    {
     "name": "stdout",
     "output_type": "stream",
     "text": [
      "This is the first sentence. Here is the second sentence. Python is great.\n"
     ]
    }
   ],
   "source": [
    "# Part2\n",
    "# Reading line by line\n",
    "\n",
    "with open(\"sample.txt\", \"r\") as file:\n",
    "    line = file.readline()\n",
    "    while line:\n",
    "        print(line.strip())\n",
    "        line = file.readline()"
   ]
  },
  {
   "cell_type": "code",
   "execution_count": 70,
   "id": "a8aeee0a-64de-4ad2-ab00-116d823c1c33",
   "metadata": {},
   "outputs": [
    {
     "name": "stdout",
     "output_type": "stream",
     "text": [
      "Line1: This is the first sentence. Here is the second sentence. Python is great. \n",
      "\n"
     ]
    }
   ],
   "source": [
    "# Line by Line with numbers\n",
    "\n",
    "with open(\"sample.txt\", \"r\") as file:\n",
    "    line_number = 1\n",
    "    line = file.readline()\n",
    "    \n",
    "    while line:\n",
    "        print(f\"Line{line_number}:\",line.strip(),\"\\n\")\n",
    "        line = file.readline()\n",
    "        line_number += 1"
   ]
  },
  {
   "cell_type": "code",
   "execution_count": 74,
   "id": "e0e6ebc3-95bc-4231-83a8-72cddcf409a9",
   "metadata": {},
   "outputs": [
    {
     "name": "stdout",
     "output_type": "stream",
     "text": [
      "Total lines: 1\n",
      "['This is the first sentence. Here is the second sentence. Python is great.']\n"
     ]
    }
   ],
   "source": [
    "# Part3\n",
    "# Read All lines into a list\n",
    "\n",
    "with open(\"sample.txt\", \"r\") as file:\n",
    "    lines = file.readlines()\n",
    "    print(\"Total lines:\", len(lines))\n",
    "    print(lines)\n"
   ]
  },
  {
   "cell_type": "code",
   "execution_count": 76,
   "id": "a637fa95-36e4-4145-8fd7-07ee28424316",
   "metadata": {},
   "outputs": [
    {
     "name": "stdout",
     "output_type": "stream",
     "text": [
      "Total lines: 1\n",
      "Line 1 has 13 words\n"
     ]
    }
   ],
   "source": [
    "# Read by Lines and Count the words\n",
    "\n",
    "with open(\"sample.txt\", \"r\") as file:\n",
    "    lines = file.readlines()\n",
    "    print(\"Total lines:\", len(lines))\n",
    "\n",
    "    for i, line in enumerate(lines, start=1):\n",
    "        word_count = len(line.strip().split())\n",
    "        print(f\"Line {i} has {word_count} words\")"
   ]
  },
  {
   "cell_type": "code",
   "execution_count": 78,
   "id": "17013a99-d784-493a-bd4c-d382b46589ea",
   "metadata": {},
   "outputs": [
    {
     "name": "stdout",
     "output_type": "stream",
     "text": [
      "Line 1: This is the first sentence. Here is the second sentence. Python is great.\n"
     ]
    }
   ],
   "source": [
    "# Part4\n",
    "# Iterate Over File\n",
    "\n",
    "with open(\"sample.txt\", \"r\") as file:\n",
    "    for index, line in enumerate(file, 1):\n",
    "        print(f\"Line {index}: {line.strip()}\")"
   ]
  },
  {
   "cell_type": "code",
   "execution_count": 80,
   "id": "704f9f21-d665-43f8-9ee2-2ad5b77e707b",
   "metadata": {},
   "outputs": [
    {
     "name": "stdout",
     "output_type": "stream",
     "text": [
      "Line 1: This is the first sentence. Here is the second sentence. Python is great.\n",
      "\n",
      "Total characters (excluding newlines): 73\n"
     ]
    }
   ],
   "source": [
    "# Total Number of Characters\n",
    "\n",
    "total_chars = 0\n",
    "\n",
    "with open(\"sample.txt\", \"r\") as file:\n",
    "    for index, line in enumerate(file, 1):\n",
    "        clean_line = line.strip()  # removes \\n and extra spaces\n",
    "        print(f\"Line {index}: {clean_line}\")\n",
    "        total_chars += len(clean_line)\n",
    "\n",
    "print(f\"\\nTotal characters (excluding newlines): {total_chars}\")\n"
   ]
  },
  {
   "cell_type": "code",
   "execution_count": 82,
   "id": "caff07be-6510-41a3-b537-e3a76fd50807",
   "metadata": {},
   "outputs": [
    {
     "name": "stdout",
     "output_type": "stream",
     "text": [
      "File exists. Size: 73 bytes\n"
     ]
    }
   ],
   "source": [
    "# Part 5\n",
    "# Using OS and Pathlib\n",
    "\n",
    "from pathlib import Path\n",
    "\n",
    "file_path = Path(\"sample.txt\")\n",
    "if file_path.exists():\n",
    "    print(\"File exists. Size:\", file_path.stat().st_size, \"bytes\")\n",
    "else:\n",
    "    print(\"File does not exist.\")"
   ]
  },
  {
   "cell_type": "code",
   "execution_count": 90,
   "id": "baa0be41-b7b5-4636-a5d5-71ba978532fe",
   "metadata": {},
   "outputs": [
    {
     "name": "stdin",
     "output_type": "stream",
     "text": [
      "Enter the name of file with Extension:  notes.pdf\n"
     ]
    },
    {
     "name": "stdout",
     "output_type": "stream",
     "text": [
      "ERROR 404!!! WARNING!!! File does not exist!!!\n"
     ]
    }
   ],
   "source": [
    "# Check file exixtence\n",
    "\n",
    "from pathlib import Path\n",
    "\n",
    "file_path = Path(input(\"Enter the name of file with Extension: \"))\n",
    "if file_path.exists():\n",
    "    print(\"File exists. Size:\", file_path.stat().st_size, \"bytes\")\n",
    "else:\n",
    "    print(\"ERROR 404!!! WARNING!!! File does not exist!!!\")"
   ]
  }
 ],
 "metadata": {
  "kernelspec": {
   "display_name": "Python [conda env:base] *",
   "language": "python",
   "name": "conda-base-py"
  },
  "language_info": {
   "codemirror_mode": {
    "name": "ipython",
    "version": 3
   },
   "file_extension": ".py",
   "mimetype": "text/x-python",
   "name": "python",
   "nbconvert_exporter": "python",
   "pygments_lexer": "ipython3",
   "version": "3.12.7"
  }
 },
 "nbformat": 4,
 "nbformat_minor": 5
}
