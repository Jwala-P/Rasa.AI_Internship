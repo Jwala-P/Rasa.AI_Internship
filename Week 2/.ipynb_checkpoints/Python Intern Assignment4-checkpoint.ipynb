{
 "cells": [
  {
   "cell_type": "code",
   "execution_count": 123,
   "id": "21308fc4-903b-4b37-9ae3-d7ed90bff876",
   "metadata": {},
   "outputs": [
    {
     "name": "stdout",
     "output_type": "stream",
     "text": [
      "The two words are Anagrams of each other.\n"
     ]
    }
   ],
   "source": [
    "# Anagram Checker\n",
    "\n",
    "def is_anagram(str1,str2):\n",
    "    is_anagram=True\n",
    "    str1=str1.strip().upper()\n",
    "    str2=str2.strip().upper()\n",
    "    str1_ascii=[]\n",
    "    str2_ascii=[]\n",
    "    for i in str1:\n",
    "        a=ord(i)\n",
    "        str1_ascii.append(a)\n",
    "    for i in str2:\n",
    "        b=ord(i)\n",
    "        str2_ascii.append(b)\n",
    "    str1_ascii.sort()\n",
    "    str2_ascii.sort()\n",
    "\n",
    "    for i in range(len(str1)):\n",
    "        if str1_ascii[i]==str2_ascii[i]:\n",
    "            is_anagram=True\n",
    "        else:\n",
    "            is_anagram=False\n",
    "            print(\"The two words are not Anagrams of each other.\")\n",
    "            break\n",
    "    if is_anagram==True:\n",
    "        print(\"The two words are Anagrams of each other.\")\n",
    "\n",
    "is_anagram(\"hello\",\"olleh\")"
   ]
  },
  {
   "cell_type": "code",
   "execution_count": 135,
   "id": "a44315a7-06cf-446e-9d90-746084477c6c",
   "metadata": {},
   "outputs": [
    {
     "name": "stdout",
     "output_type": "stream",
     "text": [
      "{1, 2}\n"
     ]
    }
   ],
   "source": [
    "# Find Duplicates\n",
    "\n",
    "def find_duplicates(n):\n",
    "    viewed=set()\n",
    "    duplicates=set()\n",
    "\n",
    "    for i in n:\n",
    "        if i in viewed:\n",
    "            duplicates.add(i)\n",
    "        else:\n",
    "            viewed.add(i)\n",
    "\n",
    "    print(duplicates)\n",
    "\n",
    "find_duplicates([1,2,3,4,5,1,2,7,8,2,9,1])"
   ]
  },
  {
   "cell_type": "code",
   "execution_count": 117,
   "id": "c01c9458-bae0-4233-aada-381e6b7aa6dd",
   "metadata": {},
   "outputs": [
    {
     "name": "stdout",
     "output_type": "stream",
     "text": [
      "\n",
      "The first non repeating Character is  C\n"
     ]
    }
   ],
   "source": [
    "# First Non-repeating Character\n",
    "\n",
    "def first_non_repeating_char(text):\n",
    "    \n",
    "    is_non_repeating=True\n",
    "    \n",
    "    text=text.upper()\n",
    "    char_count={}\n",
    "    for i in text:\n",
    "        char_count[i]=char_count.get(i,0)+1     \n",
    "    for i in text:\n",
    "        if char_count[i]==1:\n",
    "            print(\"\\nThe first non repeating Character is \",i)\n",
    "            is_non_repeating=True\n",
    "            break\n",
    "        else:\n",
    "            is_non_repeating=False\n",
    "    \n",
    "    if is_non_repeating == False:\n",
    "        print(\"\\nThere is no non repeating character.\")\n",
    "        \n",
    "first_non_repeating_char(\"abracadabra\")"
   ]
  },
  {
   "cell_type": "code",
   "execution_count": 97,
   "id": "1ebc4450-bdaf-46be-a4e7-62acfc5aa324",
   "metadata": {},
   "outputs": [
    {
     "name": "stdout",
     "output_type": "stream",
     "text": [
      "2\n",
      "3\n",
      "1\n",
      "Yes. c\n"
     ]
    }
   ],
   "source": [
    "y=\"abc\"\n",
    "x={'a':2,'b':3,'c':1}\n",
    "for i in y:\n",
    "    print(x[i])\n",
    "    if x[i]==1:\n",
    "        print(\"Yes.\",i)"
   ]
  },
  {
   "cell_type": "code",
   "execution_count": 117,
   "id": "5eaf7fa9-cf68-4aca-a504-511c010224fb",
   "metadata": {},
   "outputs": [
    {
     "name": "stdout",
     "output_type": "stream",
     "text": [
      "9227465\n",
      "5702887\n"
     ]
    }
   ],
   "source": [
    "# Fibanocci Using Memoization\n",
    "\n",
    "def fib(n, memo={}):\n",
    "    if n in memo:\n",
    "        return memo[n]\n",
    "    if n<=1:\n",
    "        memo[n]=n\n",
    "    else:\n",
    "        memo[n]=fib(n-1,memo)+fib(n-2,memo)\n",
    "    return memo[n]\n",
    "\n",
    "print(fib(35))\n",
    "print(fib(34))"
   ]
  },
  {
   "cell_type": "code",
   "execution_count": 29,
   "id": "bb5c835d-17ef-4a49-a2a6-4cf4711cef87",
   "metadata": {},
   "outputs": [],
   "source": [
    "# Two sum problem\n",
    "\n",
    "def two_sum(nums, target):\n",
    "    is_pairs=True\n",
    "    two_sums={}\n",
    "    for i in nums:\n",
    "        for j in nums:\n",
    "            two_sums[(i,j)]=i+j\n",
    "    pairs=[]\n",
    "    for i in nums:\n",
    "        for j in nums:\n",
    "            if two_sums[(i,j)]==target:\n",
    "                x=(i,j)\n",
    "                pairs.append(x)\n",
    "            if (i,j) in pairs and (j,i) in pairs:\n",
    "                pairs.remove((i,j))\n",
    "                \n",
    "    print(f\"The pair(s) that sum to the target is/are {pairs}\")"
   ]
  },
  {
   "cell_type": "code",
   "execution_count": 31,
   "id": "b0b3bc92-030b-46dc-9e72-d1b9737a3e56",
   "metadata": {},
   "outputs": [
    {
     "name": "stdout",
     "output_type": "stream",
     "text": [
      "The pair(s) that sum to the target is/are [(2, 4)]\n"
     ]
    }
   ],
   "source": [
    "two_sum([2,4,11,15,3], 6)"
   ]
  },
  {
   "cell_type": "code",
   "execution_count": 39,
   "id": "f7954054-6795-47c8-a807-78bff0f565e6",
   "metadata": {},
   "outputs": [
    {
     "name": "stdin",
     "output_type": "stream",
     "text": [
      "Enter the Roman Numeral:  CIX\n"
     ]
    },
    {
     "name": "stdout",
     "output_type": "stream",
     "text": [
      "\n",
      "The Value of the roman numeral CIX in integers is 109.\n"
     ]
    }
   ],
   "source": [
    "# Roman Numerals to Integers\n",
    "\n",
    "def roman_to_int(s):\n",
    "    roman={'I':1,'V':5,'X':10,'L':50,'C':100,'D':500,'M':1000}\n",
    "\n",
    "    total=0\n",
    "    prev_value=0\n",
    "\n",
    "    for i in reversed(s):\n",
    "        if roman[i] < prev_value:\n",
    "            total-=roman[i]\n",
    "        else:\n",
    "            total+=roman[i]\n",
    "            prev_value=roman[i]\n",
    "\n",
    "    return total\n",
    "\n",
    "roman_numeral=str(input(\"Enter the Roman Numeral: \"))\n",
    "print(f\"\\nThe Value of the roman numeral {roman_numeral} in integers is {roman_to_int(roman_numeral)}.\")"
   ]
  },
  {
   "cell_type": "code",
   "execution_count": 73,
   "id": "cab8a4ca-5752-4e62-a643-329f41b13c33",
   "metadata": {},
   "outputs": [
    {
     "name": "stdout",
     "output_type": "stream",
     "text": [
      "[23, 56, 3, 2, 1]\n"
     ]
    }
   ],
   "source": [
    "# Linked List Reversal (Simulated With List)\n",
    "\n",
    "def reverse_list(list1):\n",
    "    reversed_list=list1[::-1]\n",
    "    return reversed_list\n",
    "\n",
    "print(reverse_list([1,2,3,56,23]))"
   ]
  },
  {
   "cell_type": "code",
   "execution_count": 145,
   "id": "04745167-54b0-4192-b3f1-9be426e3d391",
   "metadata": {},
   "outputs": [
    {
     "name": "stdout",
     "output_type": "stream",
     "text": [
      "\n",
      "The Parantheses are balanced.\n",
      "The number of characters other than '(' and ')' is 11.\n",
      "\n",
      "A ')' is needed.\n",
      "The number of characters other than '(' and ')' is 0.\n"
     ]
    }
   ],
   "source": [
    "# Balanced Parantheses Checker\n",
    "\n",
    "def is_balanced(exp):\n",
    "    count1=0\n",
    "    count2=0\n",
    "    count3=0\n",
    "    for i in exp:\n",
    "        if i==\"(\":\n",
    "            count1+=1\n",
    "        elif i==\")\":\n",
    "            count2+=1\n",
    "        else:\n",
    "            count3+=1\n",
    "    if count1<count2:\n",
    "        print(\"\\nA '(' is needed.\")\n",
    "    elif count1>count2:\n",
    "        print(\"\\nA ')' is needed.\")\n",
    "    else:\n",
    "        print(\"\\nThe Parantheses are balanced.\")\n",
    "\n",
    "    print(f\"The number of characters other than '(' and ')' is {count3}.\")\n",
    "\n",
    "is_balanced(\"((Hello Guys!))()\")\n",
    "is_balanced(\"(()\")"
   ]
  },
  {
   "cell_type": "code",
   "execution_count": 9,
   "id": "feffa952-0ce8-4727-a663-2700e23177eb",
   "metadata": {},
   "outputs": [
    {
     "data": {
      "text/plain": [
       "'eert'"
      ]
     },
     "execution_count": 9,
     "metadata": {},
     "output_type": "execute_result"
    }
   ],
   "source": [
    "# Character Frequency Sorter\n",
    "\n",
    "def frequency_sort(s):\n",
    "    char_count={}\n",
    "    st=sorted(s)\n",
    "    for i in st:\n",
    "        char_count[i]=char_count.get(i,0)+1\n",
    "    sorted_word=''.join(char*count for char,count in sorted(char_count.items(), key=lambda item:item[1],reverse=True))\n",
    "    return sorted_word\n",
    "\n",
    "frequency_sort(\"tree\")"
   ]
  },
  {
   "cell_type": "code",
   "execution_count": 21,
   "id": "783340c8-cbb0-414a-9474-708aa6c840e1",
   "metadata": {},
   "outputs": [
    {
     "data": {
      "text/plain": [
       "['user@gmail.com', 'admin@yahoo.com']"
      ]
     },
     "execution_count": 21,
     "metadata": {},
     "output_type": "execute_result"
    }
   ],
   "source": [
    "# Clean and Normalize Email list\n",
    "\n",
    "def normalize_emails(emails):\n",
    "    for i in range(len(emails)):\n",
    "        emails[i]=emails[i].lower().strip()\n",
    "    return list(set(emails))\n",
    "\n",
    "normalize_emails([\"User@Gmail.com \", \"user@gmail.COM\", \"admin@yahoo.com\"])"
   ]
  },
  {
   "cell_type": "code",
   "execution_count": null,
   "id": "2459fbc1-a41d-4fa1-bad8-91f02c6c46e5",
   "metadata": {},
   "outputs": [],
   "source": []
  }
 ],
 "metadata": {
  "kernelspec": {
   "display_name": "Python [conda env:base] *",
   "language": "python",
   "name": "conda-base-py"
  },
  "language_info": {
   "codemirror_mode": {
    "name": "ipython",
    "version": 3
   },
   "file_extension": ".py",
   "mimetype": "text/x-python",
   "name": "python",
   "nbconvert_exporter": "python",
   "pygments_lexer": "ipython3",
   "version": "3.12.7"
  }
 },
 "nbformat": 4,
 "nbformat_minor": 5
}
