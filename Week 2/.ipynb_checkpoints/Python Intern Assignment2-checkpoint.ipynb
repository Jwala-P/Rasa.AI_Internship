{
 "cells": [
  {
   "cell_type": "code",
   "execution_count": 3,
   "id": "aa7e3af3-21ed-4d44-9301-abdb8ff5e912",
   "metadata": {},
   "outputs": [
    {
     "name": "stdin",
     "output_type": "stream",
     "text": [
      "Enter the first number:  45\n",
      "Enter the second number:  65\n"
     ]
    },
    {
     "name": "stdout",
     "output_type": "stream",
     "text": [
      "Addition: 110.0\n",
      "Subtraction: -20.0\n",
      "Multiplication: 2925.0\n",
      "Division: 0.6923076923076923\n"
     ]
    }
   ],
   "source": [
    "# Simple Calculator\n",
    "\n",
    "num1 = float(input(\"Enter the first number: \"))\n",
    "num2 = float(input(\"Enter the second number: \"))\n",
    "\n",
    "print(f\"Addition: {num1+num2}\\nSubtraction: {num1-num2}\\nMultiplication: {num1*num2}\\nDivision: {num1/num2}\")"
   ]
  },
  {
   "cell_type": "code",
   "execution_count": 13,
   "id": "6a3293c7-ae2e-4804-924f-8e840825eee2",
   "metadata": {},
   "outputs": [
    {
     "name": "stdout",
     "output_type": "stream",
     "text": [
      "The number is Even.\n",
      "The number is Odd.\n"
     ]
    }
   ],
   "source": [
    "# Even or Odd\n",
    "\n",
    "def even_or_odd(n):\n",
    "    if n%2==0:\n",
    "        return \"The number is Even.\"\n",
    "    else:\n",
    "        return \"The number is Odd.\"\n",
    "\n",
    "print(even_or_odd(2))\n",
    "print(even_or_odd(33))"
   ]
  },
  {
   "cell_type": "code",
   "execution_count": 15,
   "id": "ef4df259-9cbe-44c1-a1e1-2a7c47a8b62b",
   "metadata": {},
   "outputs": [
    {
     "name": "stdin",
     "output_type": "stream",
     "text": [
      "Enter your Age:  16\n"
     ]
    },
    {
     "name": "stdout",
     "output_type": "stream",
     "text": [
      "Better Luck next time!\n"
     ]
    }
   ],
   "source": [
    "# Voting Eligibility\n",
    "\n",
    "Age = int(input(\"Enter your Age: \"))\n",
    "\n",
    "# TODO: Check if age >= 18\n",
    "if Age >= 18:\n",
    "    print(\"You are eligible to Vote.\")\n",
    "else:\n",
    "    print(\"Better Luck next time!\")"
   ]
  },
  {
   "cell_type": "code",
   "execution_count": 21,
   "id": "4338976b-4125-4f5e-9f15-81fce195057e",
   "metadata": {},
   "outputs": [
    {
     "name": "stdin",
     "output_type": "stream",
     "text": [
      "Enter the value of the 1st number:  23\n",
      "Enter the value of the 2nd number:  34\n"
     ]
    },
    {
     "name": "stdout",
     "output_type": "stream",
     "text": [
      "After Swap using third Variable:  34 23\n"
     ]
    },
    {
     "name": "stdin",
     "output_type": "stream",
     "text": [
      "Enter the value of the 1st number:  45\n",
      "Enter the value of the 2nd number:  56\n"
     ]
    },
    {
     "name": "stdout",
     "output_type": "stream",
     "text": [
      "After Swap without using third Variable:  56 45\n"
     ]
    }
   ],
   "source": [
    "# Swap Variables\n",
    "\n",
    "a=int(input(\"Enter the value of the 1st number: \"))\n",
    "b=int(input(\"Enter the value of the 2nd number: \"))\n",
    "\n",
    "temp=a\n",
    "a=b\n",
    "b=temp\n",
    "\n",
    "print(\"After Swap using third Variable: \",a,b)\n",
    "\n",
    "a=int(input(\"Enter the value of the 1st number: \"))\n",
    "b=int(input(\"Enter the value of the 2nd number: \"))\n",
    "a,b=b,a\n",
    "\n",
    "print(\"After Swap without using third Variable: \",a,b)"
   ]
  },
  {
   "cell_type": "code",
   "execution_count": 31,
   "id": "f32e0319-b59a-44b8-a192-efc63450721c",
   "metadata": {},
   "outputs": [
    {
     "name": "stdin",
     "output_type": "stream",
     "text": [
      "Enter the number:  2\n"
     ]
    },
    {
     "name": "stdout",
     "output_type": "stream",
     "text": [
      "\n",
      "Multiplication Table\n",
      "\n",
      "2 X 1 = 2\n",
      "2 X 2 = 4\n",
      "2 X 3 = 6\n",
      "2 X 4 = 8\n",
      "2 X 5 = 10\n",
      "2 X 6 = 12\n",
      "2 X 7 = 14\n",
      "2 X 8 = 16\n",
      "2 X 9 = 18\n",
      "2 X 10 = 20\n",
      "2 X 11 = 22\n",
      "2 X 12 = 24\n",
      "2 X 13 = 26\n",
      "2 X 14 = 28\n",
      "2 X 15 = 30\n",
      "2 X 16 = 32\n",
      "2 X 17 = 34\n",
      "2 X 18 = 36\n",
      "2 X 19 = 38\n",
      "2 X 20 = 40\n",
      "\n",
      "Power Table\n",
      "\n",
      "2 powered to 1 = 2\n",
      "2 powered to 2 = 4\n",
      "2 powered to 3 = 8\n",
      "2 powered to 4 = 16\n",
      "2 powered to 5 = 32\n",
      "2 powered to 6 = 64\n",
      "2 powered to 7 = 128\n",
      "2 powered to 8 = 256\n",
      "2 powered to 9 = 512\n",
      "2 powered to 10 = 1024\n",
      "2 powered to 11 = 2048\n",
      "2 powered to 12 = 4096\n",
      "2 powered to 13 = 8192\n",
      "2 powered to 14 = 16384\n",
      "2 powered to 15 = 32768\n",
      "2 powered to 16 = 65536\n",
      "2 powered to 17 = 131072\n",
      "2 powered to 18 = 262144\n",
      "2 powered to 19 = 524288\n",
      "2 powered to 20 = 1048576\n"
     ]
    }
   ],
   "source": [
    "# Multiplication Table\n",
    "\n",
    "num = int(input(\"Enter the number: \"))\n",
    "\n",
    "print(\"\\nMultiplication Table\\n\")\n",
    "for i in range(1,21):\n",
    "    print(f\"{num} X {i} = {num*i}\")\n",
    "\n",
    "# Power Table\n",
    "print(\"\\nPower Table\\n\")\n",
    "for i in range(1,21):\n",
    "    print(f\"{num} powered to {i} = {num**i}\")"
   ]
  },
  {
   "cell_type": "code",
   "execution_count": 43,
   "id": "5e0330c9-b962-46fb-89e8-c36b53eda9db",
   "metadata": {},
   "outputs": [
    {
     "name": "stdin",
     "output_type": "stream",
     "text": [
      "Enter a number:  -23\n"
     ]
    },
    {
     "name": "stdout",
     "output_type": "stream",
     "text": [
      "\n",
      "The number 23 is Prime.\n"
     ]
    }
   ],
   "source": [
    "# Prime Number Checker\n",
    "\n",
    "n=abs(int(input(\"Enter a number: \")))\n",
    "\n",
    "for i in range(2,n):\n",
    "    if n==1:\n",
    "        print(f\"\\nThe number {n} is neither Prime nor Composite.\")\n",
    "        break\n",
    "    elif n%i==0:\n",
    "        print(f\"\\nThe number {n} is not a Prime.\")\n",
    "        break\n",
    "    else:\n",
    "        print(f\"\\nThe number {n} is Prime.\")\n",
    "        break"
   ]
  },
  {
   "cell_type": "code",
   "execution_count": 73,
   "id": "c94b488c-b245-492c-bef2-a350fd1579a0",
   "metadata": {},
   "outputs": [
    {
     "data": {
      "text/plain": [
       "24"
      ]
     },
     "execution_count": 73,
     "metadata": {},
     "output_type": "execute_result"
    }
   ],
   "source": [
    "# Factorial Calculation\n",
    "\n",
    "def factorial(n):\n",
    "    n=abs(n)\n",
    "    prod=1\n",
    "    for i in range(1,n+1):\n",
    "        prod=prod*i\n",
    "    return prod\n",
    "\n",
    "factorial(-4)"
   ]
  },
  {
   "cell_type": "code",
   "execution_count": 81,
   "id": "8667c527-ccd8-4f59-881b-e0011a6bc4e5",
   "metadata": {},
   "outputs": [
    {
     "name": "stdout",
     "output_type": "stream",
     "text": [
      "0\n",
      "1\n",
      "1\n",
      "2\n",
      "3\n"
     ]
    }
   ],
   "source": [
    "# Fibanocci\n",
    "\n",
    "def fibanocci(n):\n",
    "    x,y=0,1\n",
    "    for i in range(n):\n",
    "        print(x)\n",
    "        x,y=y,(x+y)\n",
    "\n",
    "fibanocci(5)"
   ]
  },
  {
   "cell_type": "code",
   "execution_count": 85,
   "id": "78daa4fc-5893-4251-bb83-184cf75b3861",
   "metadata": {},
   "outputs": [
    {
     "name": "stdin",
     "output_type": "stream",
     "text": [
      "Enter a string:  hello\n"
     ]
    },
    {
     "name": "stdout",
     "output_type": "stream",
     "text": [
      "The given text is not a Palindrome.\n"
     ]
    }
   ],
   "source": [
    "# Palindrome Checker\n",
    "\n",
    "text = input(\"Enter a string: \").lower()\n",
    "\n",
    "if text==text[::-1]:\n",
    "    print(\"The given String is a Palindrome.\")\n",
    "else:\n",
    "    print(\"The given text is not a Palindrome.\")"
   ]
  },
  {
   "cell_type": "code",
   "execution_count": 87,
   "id": "22a7f449-c783-4cd0-ba6a-109842e5bc4e",
   "metadata": {},
   "outputs": [
    {
     "name": "stdin",
     "output_type": "stream",
     "text": [
      "Enter a sentence:  hello world \n"
     ]
    },
    {
     "name": "stdout",
     "output_type": "stream",
     "text": [
      "{'HELLO': 1, 'WORLD': 1}\n"
     ]
    }
   ],
   "source": [
    "# Word frequency counter\n",
    "\n",
    "sentence = input(\"Enter a sentence: \").upper()\n",
    "words = sentence.split( )\n",
    "word_count={}\n",
    "\n",
    "for word in words:\n",
    "    word_count[word]=word_count.get(word,0)+1\n",
    "\n",
    "print(word_count)"
   ]
  },
  {
   "cell_type": "code",
   "execution_count": 93,
   "id": "677dfc2e-01ea-4b06-9d1a-891ef0fb2f3f",
   "metadata": {},
   "outputs": [
    {
     "name": "stdin",
     "output_type": "stream",
     "text": [
      "Enter some text to write to the file:  hello hi\n"
     ]
    },
    {
     "name": "stdout",
     "output_type": "stream",
     "text": [
      "File Content:  hello hi\n"
     ]
    }
   ],
   "source": [
    "# Text File Read / Write\n",
    "\n",
    "filename = \"sample.txt\"\n",
    "text = input(\"Enter some text to write to the file: \")\n",
    "\n",
    "# Write to File\n",
    "\n",
    "with open(filename, \"w\") as f:\n",
    "    f.write(text)\n",
    "\n",
    "# Read and Print a File\n",
    "\n",
    "with open(filename,\"r\") as f:\n",
    "    content = f.read()\n",
    "    print(\"File Content: \", content)"
   ]
  },
  {
   "cell_type": "code",
   "execution_count": 101,
   "id": "a5f655e5-7059-4641-af37-b92ca90858f9",
   "metadata": {},
   "outputs": [
    {
     "name": "stdin",
     "output_type": "stream",
     "text": [
      "Enter the Numerator:  4\n",
      "Enter the Denominator:  5\n"
     ]
    },
    {
     "name": "stdout",
     "output_type": "stream",
     "text": [
      "Result:  0.8\n"
     ]
    }
   ],
   "source": [
    "# Exception Handling\n",
    "\n",
    "try:\n",
    "    a=float(input(\"Enter the Numerator: \"))\n",
    "    b=float(input(\"Enter the Denominator: \"))\n",
    "    result=a/b\n",
    "    print(\"Result: \", result)\n",
    "except ZeroDivisionError:\n",
    "    print(\"Error: Cannot divide by Zero.\")\n",
    "except ValueError:\n",
    "    print(\"Invalid Input.Please Enter Numbers.\")"
   ]
  },
  {
   "cell_type": "code",
   "execution_count": 103,
   "id": "0b013962-1702-4cf8-a579-fe051700d9e7",
   "metadata": {},
   "outputs": [
    {
     "name": "stdout",
     "output_type": "stream",
     "text": [
      "Account Balance: ₹1030000\n"
     ]
    }
   ],
   "source": [
    "# Create a simple BankAccount class with deposit and withdraw.\n",
    "\n",
    "class BankAccount:\n",
    "    def __init__(self,owner,balance=0):\n",
    "        self.owner = owner\n",
    "        self.balance = balance\n",
    "\n",
    "    def deposit(self,amount):\n",
    "        self.balance += amount\n",
    "\n",
    "    def withdraw(self,amount):\n",
    "        if amount<=self.balance:\n",
    "            self.balance -= amount\n",
    "        else:\n",
    "            print(\"Insufficient Balance.\")\n",
    "    \n",
    "    def show_balance(self):\n",
    "        print(f\"Account Balance: ₹{self.balance}\")\n",
    "\n",
    "Acc = BankAccount(\"Jwala\", 1000000)\n",
    "Acc.deposit(50000)\n",
    "Acc.withdraw(20000)\n",
    "Acc.show_balance()"
   ]
  },
  {
   "cell_type": "code",
   "execution_count": null,
   "id": "a365e43e-db3a-41d7-b4ee-1fcba66649b9",
   "metadata": {},
   "outputs": [],
   "source": []
  },
  {
   "cell_type": "code",
   "execution_count": null,
   "id": "618419b6-9cd6-4f88-8b16-d3fd665c3660",
   "metadata": {},
   "outputs": [],
   "source": []
  }
 ],
 "metadata": {
  "kernelspec": {
   "display_name": "Python [conda env:base] *",
   "language": "python",
   "name": "conda-base-py"
  },
  "language_info": {
   "codemirror_mode": {
    "name": "ipython",
    "version": 3
   },
   "file_extension": ".py",
   "mimetype": "text/x-python",
   "name": "python",
   "nbconvert_exporter": "python",
   "pygments_lexer": "ipython3",
   "version": "3.12.7"
  }
 },
 "nbformat": 4,
 "nbformat_minor": 5
}
