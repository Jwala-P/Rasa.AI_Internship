{
 "cells": [
  {
   "cell_type": "code",
   "execution_count": 7,
   "id": "c12f8bc1-654a-43ba-bdaf-9d40d4833c18",
   "metadata": {},
   "outputs": [
    {
     "name": "stdin",
     "output_type": "stream",
     "text": [
      "Enter the number of rows:  4\n"
     ]
    },
    {
     "name": "stdout",
     "output_type": "stream",
     "text": [
      "[] \n",
      "[] [] \n",
      "[] [] [] \n",
      "[] [] [] [] \n"
     ]
    }
   ],
   "source": [
    "# Right-Angled Half Pyramid of Stars\n",
    "\n",
    "n=int(input(\"Enter the number of rows: \"))\n",
    "for i in range(1,n+1):\n",
    "    print(\"[] \"*i)"
   ]
  },
  {
   "cell_type": "code",
   "execution_count": 13,
   "id": "b74d65f0-707e-43f2-af58-43ff3cf198f3",
   "metadata": {},
   "outputs": [
    {
     "name": "stdin",
     "output_type": "stream",
     "text": [
      "Enter the number of rows:  5\n"
     ]
    },
    {
     "name": "stdout",
     "output_type": "stream",
     "text": [
      "[] [] [] [] [] \n",
      "[] [] [] [] \n",
      "[] [] [] \n",
      "[] [] \n",
      "[] \n"
     ]
    }
   ],
   "source": [
    "# Inverted Half Pyramid\n",
    "\n",
    "n=int(input(\"Enter the number of rows: \"))\n",
    "for i in range(n,0,-1):\n",
    "    print(\"[] \"*i)"
   ]
  },
  {
   "cell_type": "code",
   "execution_count": 49,
   "id": "7d56c234-09d1-4a42-ba89-0e2b65c6f9a3",
   "metadata": {},
   "outputs": [
    {
     "name": "stdin",
     "output_type": "stream",
     "text": [
      "Enter the number of rows:  5\n"
     ]
    },
    {
     "name": "stdout",
     "output_type": "stream",
     "text": [
      "            [] \n",
      "         [] [] \n",
      "      [] [] [] \n",
      "   [] [] [] [] \n",
      "[] [] [] [] [] \n"
     ]
    }
   ],
   "source": [
    "# Right Aligned Half Pyramid\n",
    "\n",
    "n=int(input(\"Enter the number of rows: \"))\n",
    "for i in range(1,n+1):\n",
    "    print(\"   \"*(n-i)+\"[] \"*i)"
   ]
  },
  {
   "cell_type": "code",
   "execution_count": 61,
   "id": "9140228e-d0f4-456f-9c02-b9d54d51aa6e",
   "metadata": {},
   "outputs": [
    {
     "name": "stdin",
     "output_type": "stream",
     "text": [
      "Enter the number of rows:  5\n"
     ]
    },
    {
     "name": "stdout",
     "output_type": "stream",
     "text": [
      "        / \n",
      "      / / / \n",
      "    / / / / / \n",
      "  / / / / / / / \n",
      "/ / / / / / / / / \n"
     ]
    }
   ],
   "source": [
    "# Full Pyramid\n",
    "\n",
    "n=int(input(\"Enter the number of rows: \"))\n",
    "for i in range(n):\n",
    "    print(\"  \"*(n-i-1)+\"/ \"*(2*i+1))"
   ]
  },
  {
   "cell_type": "code",
   "execution_count": 65,
   "id": "5e0811ac-bf8e-4656-82b6-67560ee19212",
   "metadata": {},
   "outputs": [
    {
     "name": "stdin",
     "output_type": "stream",
     "text": [
      "Enter the number of rows:  5\n"
     ]
    },
    {
     "name": "stdout",
     "output_type": "stream",
     "text": [
      "        ? \n",
      "      ?   ? \n",
      "    ?       ? \n",
      "  ?           ? \n",
      "? ? ? ? ? ? ? ? ? \n"
     ]
    }
   ],
   "source": [
    "# Hollow Pyramid\n",
    "\n",
    "n=int(input(\"Enter the number of rows: \"))\n",
    "\n",
    "for i in range(n):\n",
    "    for j in range(n-i-1):\n",
    "        print(\" \",end=\" \")\n",
    "    for k in range(2*i+1):\n",
    "        if k==0 or k==2*i or i==n-1:\n",
    "            print(\"?\",end=\" \")\n",
    "        else:\n",
    "            print(\" \", end=\" \")\n",
    "    print()"
   ]
  },
  {
   "cell_type": "code",
   "execution_count": 71,
   "id": "13105309-7c00-4fa6-a960-f99661baf5d5",
   "metadata": {},
   "outputs": [
    {
     "name": "stdin",
     "output_type": "stream",
     "text": [
      "Enter the number of rows:  5\n"
     ]
    },
    {
     "name": "stdout",
     "output_type": "stream",
     "text": [
      "    ( \n",
      "   ( ( \n",
      "  ( ( ( \n",
      " ( ( ( ( \n",
      "( ( ( ( ( \n",
      ") ) ) ) ) \n",
      " ) ) ) ) \n",
      "  ) ) ) \n",
      "   ) ) \n",
      "    ) \n"
     ]
    }
   ],
   "source": [
    "# Diamond Pattern\n",
    "\n",
    "n=int(input(\"Enter the number of rows: \"))\n",
    "for i in range(1,n+1):\n",
    "    print(\" \"*(n-i)+\"( \"*i)\n",
    "for i in range(n,0,-1):\n",
    "     print(\" \"*(n-i)+\") \"*i)   "
   ]
  },
  {
   "cell_type": "code",
   "execution_count": 75,
   "id": "4ac120fb-aa6c-44b5-ac03-2611915334fa",
   "metadata": {},
   "outputs": [
    {
     "name": "stdin",
     "output_type": "stream",
     "text": [
      "Enter the number of rows:  5\n"
     ]
    },
    {
     "name": "stdout",
     "output_type": "stream",
     "text": [
      "1   \n",
      "1   2   \n",
      "1   2   3   \n",
      "1   2   3   4   \n",
      "1   2   3   4   5   \n"
     ]
    }
   ],
   "source": [
    "# Number Half Pyramid\n",
    "\n",
    "n=int(input(\"Enter the number of rows: \"))\n",
    "for i in range(1,n+1):\n",
    "    for j in range(1,i+1):\n",
    "        print(j,\" \",end=\" \")\n",
    "    print()"
   ]
  }
 ],
 "metadata": {
  "kernelspec": {
   "display_name": "Python [conda env:base] *",
   "language": "python",
   "name": "conda-base-py"
  },
  "language_info": {
   "codemirror_mode": {
    "name": "ipython",
    "version": 3
   },
   "file_extension": ".py",
   "mimetype": "text/x-python",
   "name": "python",
   "nbconvert_exporter": "python",
   "pygments_lexer": "ipython3",
   "version": "3.12.7"
  }
 },
 "nbformat": 4,
 "nbformat_minor": 5
}
