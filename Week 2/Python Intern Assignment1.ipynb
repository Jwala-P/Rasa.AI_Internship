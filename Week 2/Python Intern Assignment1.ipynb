{
 "cells": [
  {
   "cell_type": "code",
   "execution_count": 3,
   "id": "eac835f3-8e5e-43ee-a2c7-e663052ff189",
   "metadata": {},
   "outputs": [
    {
     "name": "stdout",
     "output_type": "stream",
     "text": [
      "Johnny Johnny, Yes papa!,\n",
      "\tEating sugar ?, No papa!\n",
      "\t\tTelling lies ?, No Papa!\n",
      "\t\t\tOpen Your mouth, Ha Ha Ha!!!\n"
     ]
    }
   ],
   "source": [
    "#Printing a poem\n",
    "print(\"Johnny Johnny, Yes papa!,\")\n",
    "print(\"\\tEating sugar ?, No papa!\")\n",
    "print(\"\\t\\tTelling lies ?, No Papa!\")\n",
    "print(\"\\t\\t\\tOpen Your mouth, Ha Ha Ha!!!\")"
   ]
  },
  {
   "cell_type": "code",
   "execution_count": 11,
   "id": "c5dfc768-6df4-4592-9641-164d330a97bd",
   "metadata": {},
   "outputs": [
    {
     "name": "stdout",
     "output_type": "stream",
     "text": [
      "Python Version:\n",
      "3.12.7 | packaged by Anaconda, Inc. | (main, Oct  4 2024, 13:17:27) [MSC v.1929 64 bit (AMD64)]\n",
      "Version Info:\n",
      "sys.version_info(major=3, minor=12, micro=7, releaselevel='final', serial=0)\n"
     ]
    }
   ],
   "source": [
    "# Checking our version of Python\n",
    "import sys\n",
    "\n",
    "print(\"Python Version:\")\n",
    "print(sys.version)\n",
    "print(\"Version Info:\")\n",
    "print(sys.version_info)"
   ]
  },
  {
   "cell_type": "code",
   "execution_count": 15,
   "id": "db184215-fc6d-468d-9b1f-21ce5ccf8253",
   "metadata": {},
   "outputs": [
    {
     "name": "stdout",
     "output_type": "stream",
     "text": [
      "Current date and time:2025-05-13 11:27:47.506087\n",
      "2025-05-13 11:27:47\n"
     ]
    }
   ],
   "source": [
    "# Python Datetime\n",
    "\n",
    "import datetime\n",
    "print(f\"Current date and time:{datetime.datetime.now()}\")\n",
    "print(datetime.datetime.now().strftime(\"%Y-%m-%d %H:%M:%S\"))"
   ]
  },
  {
   "cell_type": "code",
   "execution_count": 19,
   "id": "ff3d0e54-f057-40e1-bbda-6c59f95c2644",
   "metadata": {},
   "outputs": [
    {
     "name": "stdin",
     "output_type": "stream",
     "text": [
      "Enter the radius of the circle: 3.14\n"
     ]
    },
    {
     "name": "stdout",
     "output_type": "stream",
     "text": [
      "The area of the cirle with radius 3.14 is: 30.974846927333925.\n"
     ]
    }
   ],
   "source": [
    "# Circle Area Calculator\n",
    "\n",
    "from math import pi\n",
    "r = float(input(\"Enter the radius of the circle:\"))\n",
    "area = pi*r**2\n",
    "print(f\"The area of the cirle with radius {r} is: {area}.\")"
   ]
  },
  {
   "cell_type": "code",
   "execution_count": 21,
   "id": "2b65ebdc-6f8d-4f68-93e4-aaef8b1f179c",
   "metadata": {},
   "outputs": [
    {
     "name": "stdin",
     "output_type": "stream",
     "text": [
      "Enter your first name: P\n",
      "Enter your last name: Jwala\n"
     ]
    },
    {
     "name": "stdout",
     "output_type": "stream",
     "text": [
      "Reversed Name: Jwala P.\n"
     ]
    }
   ],
   "source": [
    "# Reverse Full Name\n",
    "\n",
    "first_name = input(\"Enter your first name:\")\n",
    "last_name = input(\"Enter your last name:\")\n",
    "print(f\"Reversed Name: {last_name} {first_name}.\")"
   ]
  },
  {
   "cell_type": "code",
   "execution_count": 25,
   "id": "203a9671-80e7-4324-b635-c9dcda4ad5eb",
   "metadata": {},
   "outputs": [
    {
     "name": "stdin",
     "output_type": "stream",
     "text": [
      "Input some comma separated numbers: 8,9,10\n"
     ]
    },
    {
     "name": "stdout",
     "output_type": "stream",
     "text": [
      "List: ['8', '9', '10']\n",
      "Tuple: ('8', '9', '10')\n"
     ]
    }
   ],
   "source": [
    "# List and Tuple Generator\n",
    "\n",
    "Values = input(\"Input some comma separated numbers:\")\n",
    "list_values = Values.split(\",\")\n",
    "tuple_values = tuple(list_values)\n",
    "print(f\"List: {list_values}\")\n",
    "print(f\"Tuple: {tuple_values}\")"
   ]
  },
  {
   "cell_type": "code",
   "execution_count": 29,
   "id": "46ce3a12-7fa5-4c1c-bc6d-2c4163b2f2f0",
   "metadata": {},
   "outputs": [
    {
     "name": "stdin",
     "output_type": "stream",
     "text": [
      "Input the Filename:\t hi.pdf\n"
     ]
    },
    {
     "name": "stdout",
     "output_type": "stream",
     "text": [
      "The extension of the file is:\t.pdf\n"
     ]
    }
   ],
   "source": [
    "# File Extension Extractor\n",
    "\n",
    "filename = input(\"Input the Filename:\\t\")\n",
    "file_extension = filename.split(\".\")[-1]\n",
    "print(f\"The extension of the file is:\\t.{file_extension}\")"
   ]
  },
  {
   "cell_type": "code",
   "execution_count": 37,
   "id": "d8925525-2d96-47eb-80b2-dce0dfecf2c4",
   "metadata": {},
   "outputs": [
    {
     "name": "stdin",
     "output_type": "stream",
     "text": [
      "Enter the number of color:  3\n",
      "\n",
      "Enter the name of the colors: green\n",
      "\n",
      "Enter the name of the colors: brown\n",
      "\n",
      "Enter the name of the colors: black\n"
     ]
    },
    {
     "name": "stdout",
     "output_type": "stream",
     "text": [
      "First color: GREEN\n",
      "Last color: BLACK\n"
     ]
    }
   ],
   "source": [
    "# First and Last Colors\n",
    "\n",
    "n=int(input(\"Enter the number of color: \"))\n",
    "color_list=[]\n",
    "for i in range(n):\n",
    "    color=input(\"\\nEnter the name of the colors:\").upper()\n",
    "    color_list.append(color)\n",
    "print(f\"First color: {color_list[0]}\")\n",
    "print(f\"Last color: {color_list[-1]}\")"
   ]
  },
  {
   "cell_type": "code",
   "execution_count": 41,
   "id": "161f2684-68b5-4a59-b864-60959efe1b6a",
   "metadata": {},
   "outputs": [
    {
     "name": "stdout",
     "output_type": "stream",
     "text": [
      "The examination will start from: 14 / 1 / 2025 \n"
     ]
    }
   ],
   "source": [
    "# Exam Schedule Formatter\n",
    "\n",
    "Exam_st_date = (14,1,2025)\n",
    "print(\"The examination will start from: %i / %i / %i \" %(Exam_st_date))"
   ]
  },
  {
   "cell_type": "code",
   "execution_count": 43,
   "id": "e93f113c-5caa-462e-8e39-e5ca0b684459",
   "metadata": {},
   "outputs": [
    {
     "name": "stdin",
     "output_type": "stream",
     "text": [
      "Enter a number:  2\n"
     ]
    },
    {
     "name": "stdout",
     "output_type": "stream",
     "text": [
      "Result:  246\n"
     ]
    }
   ],
   "source": [
    "# Number Expansion Calculator\n",
    "\n",
    "n= int(input(\"Enter a number: \"))\n",
    "nn=int(str(n)*2)\n",
    "nnn=int(str(n)*3)\n",
    "\n",
    "print(\"Result: \", n+nn+nnn)"
   ]
  },
  {
   "cell_type": "code",
   "execution_count": 53,
   "id": "159cf872-ace0-4a44-956d-b9f5742e2202",
   "metadata": {},
   "outputs": [
    {
     "name": "stdout",
     "output_type": "stream",
     "text": [
      "\n",
      "    Compute the arithmetic mean along the specified axis.\n",
      "\n",
      "    Returns the average of the array elements.  The average is taken over\n",
      "    the flattened array by default, otherwise over the specified axis.\n",
      "    `float64` intermediate and return values are used for integer inputs.\n",
      "\n",
      "    Parameters\n",
      "    ----------\n",
      "    a : array_like\n",
      "        Array containing numbers whose mean is desired. If `a` is not an\n",
      "        array, a conversion is attempted.\n",
      "    axis : None or int or tuple of ints, optional\n",
      "        Axis or axes along which the means are computed. The default is to\n",
      "        compute the mean of the flattened array.\n",
      "\n",
      "        .. versionadded:: 1.7.0\n",
      "\n",
      "        If this is a tuple of ints, a mean is performed over multiple axes,\n",
      "        instead of a single axis or all the axes as before.\n",
      "    dtype : data-type, optional\n",
      "        Type to use in computing the mean.  For integer inputs, the default\n",
      "        is `float64`; for floating point inputs, it is the same as the\n",
      "        input dtype.\n",
      "    out : ndarray, optional\n",
      "        Alternate output array in which to place the result.  The default\n",
      "        is ``None``; if provided, it must have the same shape as the\n",
      "        expected output, but the type will be cast if necessary.\n",
      "        See :ref:`ufuncs-output-type` for more details.\n",
      "\n",
      "    keepdims : bool, optional\n",
      "        If this is set to True, the axes which are reduced are left\n",
      "        in the result as dimensions with size one. With this option,\n",
      "        the result will broadcast correctly against the input array.\n",
      "\n",
      "        If the default value is passed, then `keepdims` will not be\n",
      "        passed through to the `mean` method of sub-classes of\n",
      "        `ndarray`, however any non-default value will be.  If the\n",
      "        sub-class' method does not implement `keepdims` any\n",
      "        exceptions will be raised.\n",
      "\n",
      "    where : array_like of bool, optional\n",
      "        Elements to include in the mean. See `~numpy.ufunc.reduce` for details.\n",
      "\n",
      "        .. versionadded:: 1.20.0\n",
      "\n",
      "    Returns\n",
      "    -------\n",
      "    m : ndarray, see dtype parameter above\n",
      "        If `out=None`, returns a new array containing the mean values,\n",
      "        otherwise a reference to the output array is returned.\n",
      "\n",
      "    See Also\n",
      "    --------\n",
      "    average : Weighted average\n",
      "    std, var, nanmean, nanstd, nanvar\n",
      "\n",
      "    Notes\n",
      "    -----\n",
      "    The arithmetic mean is the sum of the elements along the axis divided\n",
      "    by the number of elements.\n",
      "\n",
      "    Note that for floating-point input, the mean is computed using the\n",
      "    same precision the input has.  Depending on the input data, this can\n",
      "    cause the results to be inaccurate, especially for `float32` (see\n",
      "    example below).  Specifying a higher-precision accumulator using the\n",
      "    `dtype` keyword can alleviate this issue.\n",
      "\n",
      "    By default, `float16` results are computed using `float32` intermediates\n",
      "    for extra precision.\n",
      "\n",
      "    Examples\n",
      "    --------\n",
      "    >>> a = np.array([[1, 2], [3, 4]])\n",
      "    >>> np.mean(a)\n",
      "    2.5\n",
      "    >>> np.mean(a, axis=0)\n",
      "    array([2., 3.])\n",
      "    >>> np.mean(a, axis=1)\n",
      "    array([1.5, 3.5])\n",
      "\n",
      "    In single precision, `mean` can be inaccurate:\n",
      "\n",
      "    >>> a = np.zeros((2, 512*512), dtype=np.float32)\n",
      "    >>> a[0, :] = 1.0\n",
      "    >>> a[1, :] = 0.1\n",
      "    >>> np.mean(a)\n",
      "    0.54999924\n",
      "\n",
      "    Computing the mean in float64 is more accurate:\n",
      "\n",
      "    >>> np.mean(a, dtype=np.float64)\n",
      "    0.55000000074505806 # may vary\n",
      "\n",
      "    Specifying a where argument:\n",
      "\n",
      "    >>> a = np.array([[5, 9, 13], [14, 10, 12], [11, 15, 19]])\n",
      "    >>> np.mean(a)\n",
      "    12.0\n",
      "    >>> np.mean(a, where=[[True], [False], [False]])\n",
      "    9.0\n",
      "\n",
      "    \n"
     ]
    }
   ],
   "source": [
    "# Function Documentation Printer\n",
    "\n",
    "from numpy import mean\n",
    "print(mean.__doc__)"
   ]
  },
  {
   "cell_type": "code",
   "execution_count": 57,
   "id": "dcd4b227-9213-4d0a-a67a-78e6f4f7f105",
   "metadata": {},
   "outputs": [
    {
     "name": "stdin",
     "output_type": "stream",
     "text": [
      "Enter the Year:  2025\n",
      "Enter the Month:  8\n"
     ]
    },
    {
     "name": "stdout",
     "output_type": "stream",
     "text": [
      "    August 2025\n",
      "Mo Tu We Th Fr Sa Su\n",
      "             1  2  3\n",
      " 4  5  6  7  8  9 10\n",
      "11 12 13 14 15 16 17\n",
      "18 19 20 21 22 23 24\n",
      "25 26 27 28 29 30 31\n",
      "\n"
     ]
    }
   ],
   "source": [
    "import calendar\n",
    "\n",
    "Year = int(input(\"Enter the Year: \"))\n",
    "Month = int(input(\"Enter the Month: \"))\n",
    "print(calendar.month(Year,Month))"
   ]
  },
  {
   "cell_type": "code",
   "execution_count": 61,
   "id": "46591b92-7e86-4f02-a945-eba8b97de3c0",
   "metadata": {},
   "outputs": [
    {
     "name": "stdout",
     "output_type": "stream",
     "text": [
      "\n",
      "A string that you \"don't\" have to escape\n",
      "This\n",
      "is a ....... multi-line\n",
      "heredoc string --------> example\n",
      "\n"
     ]
    }
   ],
   "source": [
    "# Print a Multi-line here document\n",
    "\n",
    "print(\"\"\"\n",
    "A string that you \"don't\" have to escape\n",
    "This\n",
    "is a ....... multi-line\n",
    "heredoc string --------> example\n",
    "\"\"\")"
   ]
  },
  {
   "cell_type": "code",
   "execution_count": 81,
   "id": "b74cbb35-17bc-45e9-98ca-31d31de9fd31",
   "metadata": {},
   "outputs": [
    {
     "name": "stdin",
     "output_type": "stream",
     "text": [
      "Enter the start Year: 2015\n",
      "Enter the start Month: 8\n",
      "Enter the start Day: 20\n",
      "Enter the end Year: 2015\n",
      "Enter the end Month: 8\n",
      "Enter the end Day: 30\n"
     ]
    },
    {
     "name": "stdout",
     "output_type": "stream",
     "text": [
      "Days Between : 10\n"
     ]
    }
   ],
   "source": [
    "# Calculate days between dates\n",
    "\n",
    "from datetime import date\n",
    "\n",
    "start_date=[]\n",
    "end_date=[]\n",
    "\n",
    "date_format =[\"Year\", \"Month\", \"Day\"]\n",
    "\n",
    "for i in date_format:\n",
    "    x=int(input(f\"Enter the start {i}:\"))\n",
    "    start_date.append(x)\n",
    "\n",
    "for i in date_format:\n",
    "    x=int(input(f\"Enter the end {i}:\"))\n",
    "    end_date.append(x)\n",
    "\n",
    "start_date = date(*start_date)\n",
    "end_date = date(*end_date)\n",
    "\n",
    "delta = end_date - start_date\n",
    "\n",
    "print(f\"Days Between : {delta.days}\")"
   ]
  },
  {
   "cell_type": "code",
   "execution_count": 85,
   "id": "de58c077-b681-4d2a-b914-f3f2d4229c9f",
   "metadata": {},
   "outputs": [
    {
     "name": "stdin",
     "output_type": "stream",
     "text": [
      "Enter the radius of the Sphere:  6.0\n"
     ]
    },
    {
     "name": "stdout",
     "output_type": "stream",
     "text": [
      "Volume of the Sphere is:  904.7786842338603\n"
     ]
    }
   ],
   "source": [
    "# Volume of a Sphere\n",
    "\n",
    "from math import pi\n",
    "r=float(input(\"Enter the radius of the Sphere: \"))\n",
    "Volume = (4.0/3.0)*pi*r**3\n",
    "print(\"Volume of the Sphere is: \", Volume)"
   ]
  },
  {
   "cell_type": "code",
   "execution_count": 89,
   "id": "646ff7da-3e6b-4b63-8d98-78cbcbee1027",
   "metadata": {},
   "outputs": [
    {
     "name": "stdout",
     "output_type": "stream",
     "text": [
      "10\n",
      "2\n"
     ]
    }
   ],
   "source": [
    "# Differnce from 17 \n",
    "\n",
    "def diff_17(n):\n",
    "    if n>17:\n",
    "        return 2*abs(n-17)\n",
    "    else: \n",
    "        return 17-n\n",
    "\n",
    "print(diff_17(22))\n",
    "print(diff_17(15))"
   ]
  },
  {
   "cell_type": "code",
   "execution_count": 99,
   "id": "d8fdae8a-5d6f-4be3-b8fa-80f6de8d7be5",
   "metadata": {},
   "outputs": [
    {
     "name": "stdout",
     "output_type": "stream",
     "text": [
      "True\n",
      "False\n"
     ]
    }
   ],
   "source": [
    "# Test whether a number is within 100 of 1000 or 2000\n",
    "\n",
    "def near_thousand(n):\n",
    "    return ((abs(1000-n)<=100) or (abs(2000-n)<=100))\n",
    "\n",
    "print(near_thousand(1000))\n",
    "print(near_thousand(800))"
   ]
  },
  {
   "cell_type": "code",
   "execution_count": 103,
   "id": "622358c0-d526-480c-9e8d-a768c9cfdf52",
   "metadata": {},
   "outputs": [
    {
     "name": "stdout",
     "output_type": "stream",
     "text": [
      "9\n",
      "36\n"
     ]
    }
   ],
   "source": [
    "# Triple sum calculator\n",
    "# Calculate the sum of three numbers. If all are equal, return thrice their sum.\n",
    "\n",
    "def sum_thrice(x,y,z):\n",
    "    if x==y==z:\n",
    "        return 3*(x+y+z)\n",
    "    else:\n",
    "        return x+y+z\n",
    "\n",
    "print(sum_thrice(2,4,3))\n",
    "print(sum_thrice(4,4,4))"
   ]
  },
  {
   "cell_type": "code",
   "execution_count": 113,
   "id": "9ef67934-21f8-4a61-8f65-00fe107ae6a4",
   "metadata": {},
   "outputs": [
    {
     "name": "stdout",
     "output_type": "stream",
     "text": [
      "IsHi\n",
      "Isfine\n"
     ]
    }
   ],
   "source": [
    "# Prefix \"Is\" String Modifier\n",
    "\n",
    "def new_string(text):\n",
    "    if \"Is\" in text[:2]:\n",
    "        return text\n",
    "    else:\n",
    "        return \"Is\"+text\n",
    "\n",
    "print(new_string(\"Hi\"))\n",
    "print(new_string(\"Isfine\"))"
   ]
  },
  {
   "cell_type": "code",
   "execution_count": 119,
   "id": "466f47a0-a8ac-4469-9b1c-238c691aa8c1",
   "metadata": {},
   "outputs": [
    {
     "name": "stdout",
     "output_type": "stream",
     "text": [
      "Rasa.Ai\tRasa.Ai\tRasa.Ai\tRasa.Ai\tRasa.Ai\t\n"
     ]
    }
   ],
   "source": [
    "# String Copy Generator\n",
    "\n",
    "def larger_string(text,n):\n",
    "    return text*n\n",
    "\n",
    "print(larger_string(\"Rasa.Ai\\t\",5))"
   ]
  },
  {
   "cell_type": "code",
   "execution_count": 121,
   "id": "6cee42bd-803d-4556-bce8-843bfcc9fb45",
   "metadata": {},
   "outputs": [
    {
     "name": "stdin",
     "output_type": "stream",
     "text": [
      "Enter a Number:  24\n"
     ]
    },
    {
     "name": "stdout",
     "output_type": "stream",
     "text": [
      "Even.\n"
     ]
    }
   ],
   "source": [
    "# Check Even Or Odd\n",
    "\n",
    "num = int(input(\"Enter a Number: \"))\n",
    "if num%2==0:\n",
    "    print(\"Even.\")\n",
    "else:\n",
    "    print(\"Odd.\")"
   ]
  },
  {
   "cell_type": "code",
   "execution_count": 127,
   "id": "eabeac69-9922-4698-a729-320f80ce0049",
   "metadata": {},
   "outputs": [
    {
     "name": "stdout",
     "output_type": "stream",
     "text": [
      "3\n"
     ]
    }
   ],
   "source": [
    "# Count 4 in List\n",
    "\n",
    "def list_count_4(nums):\n",
    "    count = 0\n",
    "    for num in nums:\n",
    "        if num == 4:\n",
    "            count+=1\n",
    "    return count\n",
    "\n",
    "print(list_count_4([23,4,5,6,4,2,4,31]))"
   ]
  },
  {
   "cell_type": "code",
   "execution_count": null,
   "id": "1a23f757-f733-4c66-8902-5617642f4e86",
   "metadata": {},
   "outputs": [],
   "source": []
  },
  {
   "cell_type": "code",
   "execution_count": 141,
   "id": "03ae6f0b-a59f-4249-8576-881c0e73f516",
   "metadata": {},
   "outputs": [
    {
     "name": "stdout",
     "output_type": "stream",
     "text": [
      "True\n",
      "False\n"
     ]
    }
   ],
   "source": [
    "# Vowel Tester\n",
    "\n",
    "def is_vowel(char):\n",
    "    return char.lower() in 'aeiou'\n",
    "\n",
    "print(is_vowel('a'))\n",
    "print(is_vowel('b'))"
   ]
  },
  {
   "cell_type": "code",
   "execution_count": 143,
   "id": "a6952045-6d77-4f0d-9826-44bf339fe6a7",
   "metadata": {},
   "outputs": [
    {
     "name": "stdout",
     "output_type": "stream",
     "text": [
      "True\n",
      "False\n"
     ]
    }
   ],
   "source": [
    "# Value in Group Tester\n",
    "\n",
    "def is_value_in_group(value, group):\n",
    "    return value in group\n",
    "\n",
    "print(is_value_in_group(3, [9,34,56, 3]))\n",
    "print(is_value_in_group(-1, [56,78, 55, 8, 3]))"
   ]
  },
  {
   "cell_type": "code",
   "execution_count": 147,
   "id": "9e38e2e4-5ec9-4e0f-964f-9b63d5fa8e5d",
   "metadata": {},
   "outputs": [
    {
     "name": "stdout",
     "output_type": "stream",
     "text": [
      "^^^\n",
      "^^^^\n",
      "^^^^^\n",
      "^\n",
      "^^^^^^^^^^^^\n",
      "^^^^^\n",
      "^^^^^^^^^\n"
     ]
    }
   ],
   "source": [
    "# List Histogram\n",
    "\n",
    "def histogram(values):\n",
    "    for i in values:\n",
    "        print('^'*i)\n",
    "\n",
    "histogram([3,4,5,1,12,5,9])"
   ]
  },
  {
   "cell_type": "code",
   "execution_count": null,
   "id": "66bf5f1d-5fb3-4eca-8825-6b04a3151f5d",
   "metadata": {},
   "outputs": [],
   "source": []
  },
  {
   "cell_type": "code",
   "execution_count": null,
   "id": "cdcb4be2-75ab-495b-94b3-7f057914724b",
   "metadata": {},
   "outputs": [],
   "source": []
  },
  {
   "cell_type": "code",
   "execution_count": null,
   "id": "7eb7d2d6-a61e-44bc-9e66-af966c7c2dbe",
   "metadata": {},
   "outputs": [],
   "source": []
  },
  {
   "cell_type": "code",
   "execution_count": null,
   "id": "a80c2b61-9f32-452c-ad65-9ca9951ad8ba",
   "metadata": {},
   "outputs": [],
   "source": []
  }
 ],
 "metadata": {
  "kernelspec": {
   "display_name": "Python [conda env:base] *",
   "language": "python",
   "name": "conda-base-py"
  },
  "language_info": {
   "codemirror_mode": {
    "name": "ipython",
    "version": 3
   },
   "file_extension": ".py",
   "mimetype": "text/x-python",
   "name": "python",
   "nbconvert_exporter": "python",
   "pygments_lexer": "ipython3",
   "version": "3.12.7"
  }
 },
 "nbformat": 4,
 "nbformat_minor": 5
}
