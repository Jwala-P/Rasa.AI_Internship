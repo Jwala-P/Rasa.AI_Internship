{
 "cells": [
  {
   "cell_type": "markdown",
   "id": "6e3e6392-6441-4b90-b91b-996202b36ab2",
   "metadata": {},
   "source": [
    "#### Object-Oriented Programming (OOP) in Python"
   ]
  },
  {
   "cell_type": "code",
   "execution_count": 16,
   "id": "345ed6b3-e0bb-4c1d-a1d4-36e8f4c0884a",
   "metadata": {},
   "outputs": [
    {
     "name": "stdout",
     "output_type": "stream",
     "text": [
      "Name: Jwala\n",
      "Roll: 2\n",
      "Name: Aishu\n",
      "Roll: 41\n"
     ]
    }
   ],
   "source": [
    "# Part 1\n",
    "# Basic Class Definition\n",
    "\n",
    "class Student:\n",
    "    def __init__(self,name,roll):\n",
    "        self.name = name\n",
    "        self.roll = roll\n",
    "\n",
    "    def display(self):\n",
    "        print(f\"Name: {self.name}\\nRoll: {self.roll}\")\n",
    "\n",
    "# Creating Object\n",
    "student1=Student(\"Jwala\",2)\n",
    "student1.display()\n",
    "student2=Student(\"Aishu\",41)\n",
    "student2.display()"
   ]
  },
  {
   "cell_type": "code",
   "execution_count": 20,
   "id": "e21ad8a3-5203-43a3-86a1-6a9b57eb4624",
   "metadata": {},
   "outputs": [
    {
     "name": "stdout",
     "output_type": "stream",
     "text": [
      "\n",
      "Brand: Suzuki\n",
      "Model: XA15\n",
      "Year: 2015\n"
     ]
    }
   ],
   "source": [
    "# Creating a Class named Car with method named get_details\n",
    "\n",
    "class Car:\n",
    "    def __init__(self,brand,model,year):\n",
    "        self.brand = brand\n",
    "        self.model = model\n",
    "        self.year = year\n",
    "    \n",
    "    def get_details(self):\n",
    "        print(f\"\\nBrand: {self.brand}\\nModel: {self.model}\\nYear: {self.year}\")\n",
    "\n",
    "# Create Object\n",
    "\n",
    "Car1 = Car(\"Suzuki\",\"XA15\",2015)\n",
    "Car1.get_details()"
   ]
  },
  {
   "cell_type": "code",
   "execution_count": 32,
   "id": "3279756b-9d7c-400a-9aec-7a1c33cb3f87",
   "metadata": {},
   "outputs": [
    {
     "name": "stdout",
     "output_type": "stream",
     "text": [
      "\n",
      "Account Holder's Name: Jwala\n",
      "Balance: 2000000001\n"
     ]
    }
   ],
   "source": [
    "# Part 2\n",
    "# Encapsulation - Private Attributes and Methods\n",
    "# Using Private members\n",
    "\n",
    "class Account:\n",
    "    \n",
    "    def __init__(self,owner,balance):\n",
    "        self.owner = owner\n",
    "        self.__balance = balance\n",
    "\n",
    "    def deposit(self,amount):\n",
    "        self.__balance+=amount\n",
    "\n",
    "    def get_balance(self):\n",
    "        print(f\"\\nAccount Holder's Name: {self.owner}\\nBalance: {self.__balance}\")\n",
    "\n",
    "# Creating an Object\n",
    "\n",
    "ACC = Account(\"Jwala\",2000000000)\n",
    "ACC.deposit(1)\n",
    "ACC.get_balance()"
   ]
  },
  {
   "cell_type": "code",
   "execution_count": 44,
   "id": "c13d0506-075f-41be-8429-88208e84dc15",
   "metadata": {},
   "outputs": [
    {
     "name": "stdout",
     "output_type": "stream",
     "text": [
      "\n",
      "After Deposit\n",
      "\n",
      "Name of the Account Holder: Nami\n",
      "Balance: 23468829282510\n",
      "\n",
      "After Withdrawal\n",
      "\n",
      "Name of the Account Holder: Nami\n",
      "Balance: 22090406887632\n"
     ]
    }
   ],
   "source": [
    "# Create a `BankAccount` class with private `balance` and public methods `deposit()`, `withdraw()`, and `check_balance()`.\n",
    "\n",
    "class BankAccount:\n",
    "\n",
    "    def __init__(self,owner,balance):\n",
    "        self.owner = owner\n",
    "        self.__balance = balance\n",
    "\n",
    "    def deposit(self,amount):\n",
    "        self.__balance += amount\n",
    "\n",
    "    def withdraw(self,amount):\n",
    "        self.__balance -= amount\n",
    "\n",
    "    def check_balance(self):\n",
    "        print(f\"\\nName of the Account Holder: {self.owner}\\nBalance: {self.__balance}\")\n",
    "\n",
    "# Object\n",
    "account = BankAccount(\"Nami\",23468482864049)\n",
    "\n",
    "print(\"\\nAfter Deposit\")\n",
    "account.deposit(346418461)\n",
    "account.check_balance()\n",
    "\n",
    "print(\"\\nAfter Withdrawal\")\n",
    "account.withdraw(1378422394878)\n",
    "account.check_balance()"
   ]
  },
  {
   "cell_type": "code",
   "execution_count": 52,
   "id": "31ad4128-4279-4eb5-a6ea-36d4cb269cf8",
   "metadata": {},
   "outputs": [
    {
     "name": "stdout",
     "output_type": "stream",
     "text": [
      "\n",
      "DOG:\n",
      "\n",
      "BARK!!!\n",
      "\n",
      "ANIMAL:\n",
      "\n",
      "Animal Sound.\n"
     ]
    }
   ],
   "source": [
    "# Part 3\n",
    "# Inheritance\n",
    "\n",
    "class Animal:\n",
    "    def speak(self):\n",
    "        print(\"\\nAnimal Sound.\")\n",
    "\n",
    "class Dog(Animal):\n",
    "    def speak(self):\n",
    "        print(\"\\nBARK!!!\")\n",
    "\n",
    "# Object\n",
    "\n",
    "print(\"\\nDOG:\")\n",
    "dog = Dog()\n",
    "dog.speak()\n",
    "\n",
    "print(\"\\nANIMAL:\")\n",
    "animal = Animal()\n",
    "animal.speak()\n"
   ]
  },
  {
   "cell_type": "code",
   "execution_count": 60,
   "id": "de2d5314-4d6f-474c-b28c-f23fd5c31dd6",
   "metadata": {},
   "outputs": [
    {
     "name": "stdout",
     "output_type": "stream",
     "text": [
      "Employee Info:\n",
      "\n",
      "Employee Name: Aishu\n",
      "Salary:50000\n",
      "\n",
      "Manager Info:\n",
      "\n",
      "Employee Name: Jwala\n",
      "Salary:70000\n",
      "Department: Operations\n"
     ]
    }
   ],
   "source": [
    "# Create a base class `Employee` and a derived class `Manager` that adds a `department` field.\n",
    "\n",
    "class Employee:\n",
    "    \n",
    "    def __init__(self,name,salary):\n",
    "        self.name = name\n",
    "        self.salary = salary\n",
    "\n",
    "    def info(self):\n",
    "        print(f\"\\nEmployee Name: {self.name}\\nSalary:{self.salary}\")\n",
    "\n",
    "class Manager(Employee):\n",
    "\n",
    "    def __init__(self,name,salary,department):\n",
    "        super().__init__(name,salary)\n",
    "        self.department = department\n",
    "\n",
    "    def info(self):\n",
    "        super().info()\n",
    "        print(f\"Department: {self.department}\")\n",
    "\n",
    "# Object\n",
    "\n",
    "employee = Employee(\"Aishu\", 50000)\n",
    "manager = Manager(\"Jwala\", 70000, \"Operations\")\n",
    "\n",
    "print(\"Employee Info:\")\n",
    "employee.info()\n",
    "\n",
    "print(\"\\nManager Info:\")\n",
    "manager.info()\n",
    "        "
   ]
  },
  {
   "cell_type": "code",
   "execution_count": 66,
   "id": "dd044d61-7e62-4eb5-b9ce-7a497e38d1a8",
   "metadata": {},
   "outputs": [
    {
     "name": "stdout",
     "output_type": "stream",
     "text": [
      "\n",
      "Area of Circle is in π(r^2).\n",
      "\n",
      "Area of Square is r^2 .\n"
     ]
    }
   ],
   "source": [
    "# Polymorphism and Method Overriding\n",
    "\n",
    "class Shape:\n",
    "    def area(self):\n",
    "        print(\"Area.\")\n",
    "\n",
    "class Circle(Shape):\n",
    "    def area(self):\n",
    "        print(\"\\nArea of Circle is in π(r^2).\")\n",
    "\n",
    "class Square(Shape):\n",
    "    def area(self):\n",
    "        print(\"\\nArea of Square is r^2 .\")\n",
    "\n",
    "for i in (Circle(), Square()):\n",
    "    i.area()"
   ]
  },
  {
   "cell_type": "code",
   "execution_count": 74,
   "id": "c35e29f1-2cc7-4e02-a2c4-0917046d3386",
   "metadata": {},
   "outputs": [
    {
     "name": "stdout",
     "output_type": "stream",
     "text": [
      "\n",
      "The area of rectangle is length X Breadth.\n",
      "\n",
      "The area of a Triangle is (1/2) * Base * Height.\n"
     ]
    }
   ],
   "source": [
    "# Create an abstract `Shape` class with method `area()`. Derive `Rectangle` and `Triangle` classes with custom implementations\n",
    "\n",
    "class Shape:\n",
    "    def area(self):\n",
    "        print(\"Area.\")\n",
    "\n",
    "class Rectangle(Shape):\n",
    "    def area(self):\n",
    "        print(\"\\nThe area of rectangle is length X Breadth.\")\n",
    "\n",
    "class Triangle(Shape):\n",
    "    def area(self):\n",
    "        print(\"\\nThe area of a Triangle is (1/2) * Base * Height.\")\n",
    "\n",
    "for i in (Rectangle(),Triangle()):\n",
    "    i.area()"
   ]
  },
  {
   "cell_type": "code",
   "execution_count": 76,
   "id": "37a5cfea-3791-408c-a04c-68336373d9bb",
   "metadata": {},
   "outputs": [
    {
     "name": "stdout",
     "output_type": "stream",
     "text": [
      "\n",
      "Object is created.\n",
      "\n",
      "Object is deleted.\n"
     ]
    }
   ],
   "source": [
    "# Constructor and Destructor\n",
    "\n",
    "class Demo:\n",
    "    def __init__(self):\n",
    "        print(\"\\nObject is created.\")\n",
    "\n",
    "    def __del__(self):\n",
    "        print(\"\\nObject is deleted.\")\n",
    "\n",
    "object1 = Demo()\n",
    "del object1"
   ]
  },
  {
   "cell_type": "code",
   "execution_count": 82,
   "id": "19900961-7ba8-4425-b906-411a55adfabd",
   "metadata": {},
   "outputs": [
    {
     "name": "stdout",
     "output_type": "stream",
     "text": [
      "Constuctor:\n",
      "\n",
      "Book records has been entered.\n",
      "\n",
      "Destuctor:\n",
      "\n",
      "Book Records has been deleted.\n"
     ]
    }
   ],
   "source": [
    "# Create a class `Book` with `__init__()` initializing book details. Use `__del__()` to print a message when the book object is deleted.\n",
    "\n",
    "class BOOK:\n",
    "    \n",
    "    def __init__(self,name,year,pages):\n",
    "        self.name = name\n",
    "        self.pages = pages\n",
    "        self.year = year\n",
    "        print(\"\\nBook records has been entered.\")\n",
    "\n",
    "    def __del__(self):\n",
    "        print(\"\\nBook Records has been deleted.\")\n",
    "\n",
    "#Object\n",
    "\n",
    "print(\"Constuctor:\")\n",
    "book1 = BOOK(\"The Seven Husbands of Evelyn Hugo\",2002,345)\n",
    "\n",
    "print(\"\\nDestuctor:\")\n",
    "del book1"
   ]
  },
  {
   "cell_type": "code",
   "execution_count": null,
   "id": "124a27c5-3498-4591-8e46-2fc08d964f85",
   "metadata": {},
   "outputs": [],
   "source": []
  }
 ],
 "metadata": {
  "kernelspec": {
   "display_name": "Python [conda env:base] *",
   "language": "python",
   "name": "conda-base-py"
  },
  "language_info": {
   "codemirror_mode": {
    "name": "ipython",
    "version": 3
   },
   "file_extension": ".py",
   "mimetype": "text/x-python",
   "name": "python",
   "nbconvert_exporter": "python",
   "pygments_lexer": "ipython3",
   "version": "3.12.7"
  }
 },
 "nbformat": 4,
 "nbformat_minor": 5
}
