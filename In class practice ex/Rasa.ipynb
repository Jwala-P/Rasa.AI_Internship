{
 "cells": [
  {
   "cell_type": "code",
   "execution_count": 1,
   "id": "4d09b32e-1eb7-4ba0-b017-58e335d2bd72",
   "metadata": {},
   "outputs": [],
   "source": [
    "import pandas as pd\n",
    "import numpy as np\n",
    "import matplotlib.pyplot as plt"
   ]
  },
  {
   "cell_type": "code",
   "execution_count": 8,
   "id": "37a30aec-ccfa-420a-b235-443d575c7996",
   "metadata": {},
   "outputs": [],
   "source": [
    "data=pd.read_csv(\"C:/Users/Admin/Downloads/dataBM.csv\")"
   ]
  },
  {
   "cell_type": "code",
   "execution_count": 12,
   "id": "dc43344a-b7c1-496e-8b0b-f80b293cbb6b",
   "metadata": {},
   "outputs": [
    {
     "data": {
      "text/plain": [
       "(8523, 12)"
      ]
     },
     "execution_count": 12,
     "metadata": {},
     "output_type": "execute_result"
    }
   ],
   "source": [
    "data.shape"
   ]
  },
  {
   "cell_type": "code",
   "execution_count": 14,
   "id": "952d7e31-13d9-47cf-bf7b-ae059184b569",
   "metadata": {},
   "outputs": [
    {
     "data": {
      "text/html": [
       "<div>\n",
       "<style scoped>\n",
       "    .dataframe tbody tr th:only-of-type {\n",
       "        vertical-align: middle;\n",
       "    }\n",
       "\n",
       "    .dataframe tbody tr th {\n",
       "        vertical-align: top;\n",
       "    }\n",
       "\n",
       "    .dataframe thead th {\n",
       "        text-align: right;\n",
       "    }\n",
       "</style>\n",
       "<table border=\"1\" class=\"dataframe\">\n",
       "  <thead>\n",
       "    <tr style=\"text-align: right;\">\n",
       "      <th></th>\n",
       "      <th>Item_Identifier</th>\n",
       "      <th>Item_Weight</th>\n",
       "      <th>Item_Fat_Content</th>\n",
       "      <th>Item_Visibility</th>\n",
       "      <th>Item_Type</th>\n",
       "      <th>Item_MRP</th>\n",
       "      <th>Outlet_Identifier</th>\n",
       "      <th>Outlet_Establishment_Year</th>\n",
       "      <th>Outlet_Size</th>\n",
       "      <th>Outlet_Location_Type</th>\n",
       "      <th>Outlet_Type</th>\n",
       "      <th>Item_Outlet_Sales</th>\n",
       "    </tr>\n",
       "  </thead>\n",
       "  <tbody>\n",
       "    <tr>\n",
       "      <th>0</th>\n",
       "      <td>FDA15</td>\n",
       "      <td>9.30</td>\n",
       "      <td>Low Fat</td>\n",
       "      <td>0.016047</td>\n",
       "      <td>Dairy</td>\n",
       "      <td>249.8092</td>\n",
       "      <td>OUT049</td>\n",
       "      <td>1999</td>\n",
       "      <td>Medium</td>\n",
       "      <td>Tier 1</td>\n",
       "      <td>Supermarket Type1</td>\n",
       "      <td>3735.1380</td>\n",
       "    </tr>\n",
       "    <tr>\n",
       "      <th>1</th>\n",
       "      <td>DRC01</td>\n",
       "      <td>5.92</td>\n",
       "      <td>Regular</td>\n",
       "      <td>0.019278</td>\n",
       "      <td>Soft Drinks</td>\n",
       "      <td>48.2692</td>\n",
       "      <td>OUT018</td>\n",
       "      <td>2009</td>\n",
       "      <td>Medium</td>\n",
       "      <td>Tier 3</td>\n",
       "      <td>Supermarket Type2</td>\n",
       "      <td>443.4228</td>\n",
       "    </tr>\n",
       "    <tr>\n",
       "      <th>2</th>\n",
       "      <td>FDN15</td>\n",
       "      <td>17.50</td>\n",
       "      <td>Low Fat</td>\n",
       "      <td>0.016760</td>\n",
       "      <td>Meat</td>\n",
       "      <td>141.6180</td>\n",
       "      <td>OUT049</td>\n",
       "      <td>1999</td>\n",
       "      <td>Medium</td>\n",
       "      <td>Tier 1</td>\n",
       "      <td>Supermarket Type1</td>\n",
       "      <td>2097.2700</td>\n",
       "    </tr>\n",
       "    <tr>\n",
       "      <th>3</th>\n",
       "      <td>FDX07</td>\n",
       "      <td>19.20</td>\n",
       "      <td>Regular</td>\n",
       "      <td>0.000000</td>\n",
       "      <td>Fruits and Vegetables</td>\n",
       "      <td>182.0950</td>\n",
       "      <td>OUT010</td>\n",
       "      <td>1998</td>\n",
       "      <td>NaN</td>\n",
       "      <td>Tier 3</td>\n",
       "      <td>Grocery Store</td>\n",
       "      <td>732.3800</td>\n",
       "    </tr>\n",
       "    <tr>\n",
       "      <th>4</th>\n",
       "      <td>NCD19</td>\n",
       "      <td>8.93</td>\n",
       "      <td>Low Fat</td>\n",
       "      <td>0.000000</td>\n",
       "      <td>Household</td>\n",
       "      <td>53.8614</td>\n",
       "      <td>OUT013</td>\n",
       "      <td>1987</td>\n",
       "      <td>High</td>\n",
       "      <td>Tier 3</td>\n",
       "      <td>Supermarket Type1</td>\n",
       "      <td>994.7052</td>\n",
       "    </tr>\n",
       "  </tbody>\n",
       "</table>\n",
       "</div>"
      ],
      "text/plain": [
       "  Item_Identifier  Item_Weight Item_Fat_Content  Item_Visibility  \\\n",
       "0           FDA15         9.30          Low Fat         0.016047   \n",
       "1           DRC01         5.92          Regular         0.019278   \n",
       "2           FDN15        17.50          Low Fat         0.016760   \n",
       "3           FDX07        19.20          Regular         0.000000   \n",
       "4           NCD19         8.93          Low Fat         0.000000   \n",
       "\n",
       "               Item_Type  Item_MRP Outlet_Identifier  \\\n",
       "0                  Dairy  249.8092            OUT049   \n",
       "1            Soft Drinks   48.2692            OUT018   \n",
       "2                   Meat  141.6180            OUT049   \n",
       "3  Fruits and Vegetables  182.0950            OUT010   \n",
       "4              Household   53.8614            OUT013   \n",
       "\n",
       "   Outlet_Establishment_Year Outlet_Size Outlet_Location_Type  \\\n",
       "0                       1999      Medium               Tier 1   \n",
       "1                       2009      Medium               Tier 3   \n",
       "2                       1999      Medium               Tier 1   \n",
       "3                       1998         NaN               Tier 3   \n",
       "4                       1987        High               Tier 3   \n",
       "\n",
       "         Outlet_Type  Item_Outlet_Sales  \n",
       "0  Supermarket Type1          3735.1380  \n",
       "1  Supermarket Type2           443.4228  \n",
       "2  Supermarket Type1          2097.2700  \n",
       "3      Grocery Store           732.3800  \n",
       "4  Supermarket Type1           994.7052  "
      ]
     },
     "execution_count": 14,
     "metadata": {},
     "output_type": "execute_result"
    }
   ],
   "source": [
    "data.head()"
   ]
  },
  {
   "cell_type": "code",
   "execution_count": 16,
   "id": "980fdb35-8031-4d41-b78a-6007d8919071",
   "metadata": {},
   "outputs": [
    {
     "data": {
      "text/plain": [
       "Item_Identifier                 0\n",
       "Item_Weight                  1463\n",
       "Item_Fat_Content                0\n",
       "Item_Visibility                 0\n",
       "Item_Type                       0\n",
       "Item_MRP                        0\n",
       "Outlet_Identifier               0\n",
       "Outlet_Establishment_Year       0\n",
       "Outlet_Size                  2410\n",
       "Outlet_Location_Type            0\n",
       "Outlet_Type                     0\n",
       "Item_Outlet_Sales               0\n",
       "dtype: int64"
      ]
     },
     "execution_count": 16,
     "metadata": {},
     "output_type": "execute_result"
    }
   ],
   "source": [
    "data.isnull().sum()"
   ]
  },
  {
   "cell_type": "markdown",
   "id": "322e8ea2-4ce9-4f69-b332-b250aff8ec71",
   "metadata": {},
   "source": [
    "# Shuffling and Creating Train and Test Set"
   ]
  },
  {
   "cell_type": "code",
   "execution_count": 21,
   "id": "e857d5b8-30d6-49bf-89e3-70a573871938",
   "metadata": {},
   "outputs": [
    {
     "name": "stdout",
     "output_type": "stream",
     "text": [
      "2130\n"
     ]
    }
   ],
   "source": [
    "from sklearn.utils import shuffle\n",
    "\n",
    "# Shuffling the dataset\n",
    "data=shuffle(data,random_state=42)\n",
    "\n",
    "# Creating 4 divisions\n",
    "\n",
    "div=int(data.shape[0]/4)\n",
    "print(div)"
   ]
  },
  {
   "cell_type": "code",
   "execution_count": 39,
   "id": "d31cc063-eaa4-4e7e-83fa-07a5b2fe6066",
   "metadata": {},
   "outputs": [
    {
     "name": "stdout",
     "output_type": "stream",
     "text": [
      "6391\n",
      "6392\n"
     ]
    }
   ],
   "source": [
    "# 3 parts to train set and 1 part to test set\n",
    "\n",
    "a = 3*div+1\n",
    "b = a+1\n",
    "print(a)\n",
    "print(b)\n",
    "train = data.iloc[:a,:]"
   ]
  },
  {
   "cell_type": "code",
   "execution_count": 41,
   "id": "cc7318dc-faf3-4235-a92f-5d6d4a6c256c",
   "metadata": {},
   "outputs": [],
   "source": [
    "test = data.iloc[b:,:]"
   ]
  },
  {
   "cell_type": "code",
   "execution_count": 43,
   "id": "4dd13117-ee89-4259-a714-f1e1fd820136",
   "metadata": {},
   "outputs": [
    {
     "data": {
      "text/plain": [
       "(6391, 12)"
      ]
     },
     "execution_count": 43,
     "metadata": {},
     "output_type": "execute_result"
    }
   ],
   "source": [
    "train.shape"
   ]
  },
  {
   "cell_type": "code",
   "execution_count": 45,
   "id": "8f75cf55-7c24-422e-a819-88dc17050cb5",
   "metadata": {},
   "outputs": [
    {
     "data": {
      "text/plain": [
       "(2131, 12)"
      ]
     },
     "execution_count": 45,
     "metadata": {},
     "output_type": "execute_result"
    }
   ],
   "source": [
    "test.shape"
   ]
  },
  {
   "cell_type": "code",
   "execution_count": 47,
   "id": "8cbf05c8-fbf2-4b16-a094-0a18f17ee996",
   "metadata": {},
   "outputs": [
    {
     "data": {
      "text/html": [
       "<div>\n",
       "<style scoped>\n",
       "    .dataframe tbody tr th:only-of-type {\n",
       "        vertical-align: middle;\n",
       "    }\n",
       "\n",
       "    .dataframe tbody tr th {\n",
       "        vertical-align: top;\n",
       "    }\n",
       "\n",
       "    .dataframe thead th {\n",
       "        text-align: right;\n",
       "    }\n",
       "</style>\n",
       "<table border=\"1\" class=\"dataframe\">\n",
       "  <thead>\n",
       "    <tr style=\"text-align: right;\">\n",
       "      <th></th>\n",
       "      <th>Item_Identifier</th>\n",
       "      <th>Item_Weight</th>\n",
       "      <th>Item_Fat_Content</th>\n",
       "      <th>Item_Visibility</th>\n",
       "      <th>Item_Type</th>\n",
       "      <th>Item_MRP</th>\n",
       "      <th>Outlet_Identifier</th>\n",
       "      <th>Outlet_Establishment_Year</th>\n",
       "      <th>Outlet_Size</th>\n",
       "      <th>Outlet_Location_Type</th>\n",
       "      <th>Outlet_Type</th>\n",
       "      <th>Item_Outlet_Sales</th>\n",
       "    </tr>\n",
       "  </thead>\n",
       "  <tbody>\n",
       "    <tr>\n",
       "      <th>7503</th>\n",
       "      <td>FDI28</td>\n",
       "      <td>14.300</td>\n",
       "      <td>Low Fat</td>\n",
       "      <td>0.026300</td>\n",
       "      <td>Frozen Foods</td>\n",
       "      <td>79.4302</td>\n",
       "      <td>OUT013</td>\n",
       "      <td>1987</td>\n",
       "      <td>High</td>\n",
       "      <td>Tier 3</td>\n",
       "      <td>Supermarket Type1</td>\n",
       "      <td>1743.0644</td>\n",
       "    </tr>\n",
       "    <tr>\n",
       "      <th>2957</th>\n",
       "      <td>NCM17</td>\n",
       "      <td>7.930</td>\n",
       "      <td>Low Fat</td>\n",
       "      <td>0.071136</td>\n",
       "      <td>Health and Hygiene</td>\n",
       "      <td>42.7086</td>\n",
       "      <td>OUT046</td>\n",
       "      <td>1997</td>\n",
       "      <td>Small</td>\n",
       "      <td>Tier 1</td>\n",
       "      <td>Supermarket Type1</td>\n",
       "      <td>356.8688</td>\n",
       "    </tr>\n",
       "    <tr>\n",
       "      <th>7031</th>\n",
       "      <td>FDC14</td>\n",
       "      <td>14.500</td>\n",
       "      <td>Regular</td>\n",
       "      <td>0.041313</td>\n",
       "      <td>Canned</td>\n",
       "      <td>42.0454</td>\n",
       "      <td>OUT049</td>\n",
       "      <td>1999</td>\n",
       "      <td>Medium</td>\n",
       "      <td>Tier 1</td>\n",
       "      <td>Supermarket Type1</td>\n",
       "      <td>377.5086</td>\n",
       "    </tr>\n",
       "    <tr>\n",
       "      <th>1084</th>\n",
       "      <td>DRC36</td>\n",
       "      <td>NaN</td>\n",
       "      <td>Regular</td>\n",
       "      <td>0.044767</td>\n",
       "      <td>Soft Drinks</td>\n",
       "      <td>173.7054</td>\n",
       "      <td>OUT027</td>\n",
       "      <td>1985</td>\n",
       "      <td>Medium</td>\n",
       "      <td>Tier 3</td>\n",
       "      <td>Supermarket Type3</td>\n",
       "      <td>5778.4782</td>\n",
       "    </tr>\n",
       "    <tr>\n",
       "      <th>856</th>\n",
       "      <td>FDS27</td>\n",
       "      <td>10.195</td>\n",
       "      <td>Regular</td>\n",
       "      <td>0.012456</td>\n",
       "      <td>Meat</td>\n",
       "      <td>197.5110</td>\n",
       "      <td>OUT035</td>\n",
       "      <td>2004</td>\n",
       "      <td>Small</td>\n",
       "      <td>Tier 2</td>\n",
       "      <td>Supermarket Type1</td>\n",
       "      <td>2356.9320</td>\n",
       "    </tr>\n",
       "  </tbody>\n",
       "</table>\n",
       "</div>"
      ],
      "text/plain": [
       "     Item_Identifier  Item_Weight Item_Fat_Content  Item_Visibility  \\\n",
       "7503           FDI28       14.300          Low Fat         0.026300   \n",
       "2957           NCM17        7.930          Low Fat         0.071136   \n",
       "7031           FDC14       14.500          Regular         0.041313   \n",
       "1084           DRC36          NaN          Regular         0.044767   \n",
       "856            FDS27       10.195          Regular         0.012456   \n",
       "\n",
       "               Item_Type  Item_MRP Outlet_Identifier  \\\n",
       "7503        Frozen Foods   79.4302            OUT013   \n",
       "2957  Health and Hygiene   42.7086            OUT046   \n",
       "7031              Canned   42.0454            OUT049   \n",
       "1084         Soft Drinks  173.7054            OUT027   \n",
       "856                 Meat  197.5110            OUT035   \n",
       "\n",
       "      Outlet_Establishment_Year Outlet_Size Outlet_Location_Type  \\\n",
       "7503                       1987        High               Tier 3   \n",
       "2957                       1997       Small               Tier 1   \n",
       "7031                       1999      Medium               Tier 1   \n",
       "1084                       1985      Medium               Tier 3   \n",
       "856                        2004       Small               Tier 2   \n",
       "\n",
       "            Outlet_Type  Item_Outlet_Sales  \n",
       "7503  Supermarket Type1          1743.0644  \n",
       "2957  Supermarket Type1           356.8688  \n",
       "7031  Supermarket Type1           377.5086  \n",
       "1084  Supermarket Type3          5778.4782  \n",
       "856   Supermarket Type1          2356.9320  "
      ]
     },
     "execution_count": 47,
     "metadata": {},
     "output_type": "execute_result"
    }
   ],
   "source": [
    "train.head()"
   ]
  },
  {
   "cell_type": "code",
   "execution_count": 49,
   "id": "c7ae2ab4-80dc-46bd-a0e9-096f0a84e586",
   "metadata": {},
   "outputs": [
    {
     "data": {
      "text/html": [
       "<div>\n",
       "<style scoped>\n",
       "    .dataframe tbody tr th:only-of-type {\n",
       "        vertical-align: middle;\n",
       "    }\n",
       "\n",
       "    .dataframe tbody tr th {\n",
       "        vertical-align: top;\n",
       "    }\n",
       "\n",
       "    .dataframe thead th {\n",
       "        text-align: right;\n",
       "    }\n",
       "</style>\n",
       "<table border=\"1\" class=\"dataframe\">\n",
       "  <thead>\n",
       "    <tr style=\"text-align: right;\">\n",
       "      <th></th>\n",
       "      <th>Item_Identifier</th>\n",
       "      <th>Item_Weight</th>\n",
       "      <th>Item_Fat_Content</th>\n",
       "      <th>Item_Visibility</th>\n",
       "      <th>Item_Type</th>\n",
       "      <th>Item_MRP</th>\n",
       "      <th>Outlet_Identifier</th>\n",
       "      <th>Outlet_Establishment_Year</th>\n",
       "      <th>Outlet_Size</th>\n",
       "      <th>Outlet_Location_Type</th>\n",
       "      <th>Outlet_Type</th>\n",
       "      <th>Item_Outlet_Sales</th>\n",
       "    </tr>\n",
       "  </thead>\n",
       "  <tbody>\n",
       "    <tr>\n",
       "      <th>514</th>\n",
       "      <td>FDL48</td>\n",
       "      <td>19.35</td>\n",
       "      <td>Regular</td>\n",
       "      <td>0.082198</td>\n",
       "      <td>Baking Goods</td>\n",
       "      <td>49.2034</td>\n",
       "      <td>OUT013</td>\n",
       "      <td>1987</td>\n",
       "      <td>High</td>\n",
       "      <td>Tier 3</td>\n",
       "      <td>Supermarket Type1</td>\n",
       "      <td>729.0510</td>\n",
       "    </tr>\n",
       "    <tr>\n",
       "      <th>7879</th>\n",
       "      <td>NCC06</td>\n",
       "      <td>19.00</td>\n",
       "      <td>Low Fat</td>\n",
       "      <td>0.027028</td>\n",
       "      <td>Household</td>\n",
       "      <td>127.0336</td>\n",
       "      <td>OUT049</td>\n",
       "      <td>1999</td>\n",
       "      <td>Medium</td>\n",
       "      <td>Tier 1</td>\n",
       "      <td>Supermarket Type1</td>\n",
       "      <td>3962.8416</td>\n",
       "    </tr>\n",
       "    <tr>\n",
       "      <th>409</th>\n",
       "      <td>DRP35</td>\n",
       "      <td>NaN</td>\n",
       "      <td>Low Fat</td>\n",
       "      <td>0.090427</td>\n",
       "      <td>Hard Drinks</td>\n",
       "      <td>126.2336</td>\n",
       "      <td>OUT027</td>\n",
       "      <td>1985</td>\n",
       "      <td>Medium</td>\n",
       "      <td>Tier 3</td>\n",
       "      <td>Supermarket Type3</td>\n",
       "      <td>3195.8400</td>\n",
       "    </tr>\n",
       "    <tr>\n",
       "      <th>6596</th>\n",
       "      <td>NCM29</td>\n",
       "      <td>11.50</td>\n",
       "      <td>Low Fat</td>\n",
       "      <td>0.017678</td>\n",
       "      <td>Health and Hygiene</td>\n",
       "      <td>129.2626</td>\n",
       "      <td>OUT045</td>\n",
       "      <td>2002</td>\n",
       "      <td>NaN</td>\n",
       "      <td>Tier 2</td>\n",
       "      <td>Supermarket Type1</td>\n",
       "      <td>1705.1138</td>\n",
       "    </tr>\n",
       "    <tr>\n",
       "      <th>8503</th>\n",
       "      <td>FDQ44</td>\n",
       "      <td>20.50</td>\n",
       "      <td>Low Fat</td>\n",
       "      <td>0.036133</td>\n",
       "      <td>Fruits and Vegetables</td>\n",
       "      <td>120.1756</td>\n",
       "      <td>OUT035</td>\n",
       "      <td>2004</td>\n",
       "      <td>Small</td>\n",
       "      <td>Tier 2</td>\n",
       "      <td>Supermarket Type1</td>\n",
       "      <td>3392.9168</td>\n",
       "    </tr>\n",
       "  </tbody>\n",
       "</table>\n",
       "</div>"
      ],
      "text/plain": [
       "     Item_Identifier  Item_Weight Item_Fat_Content  Item_Visibility  \\\n",
       "514            FDL48        19.35          Regular         0.082198   \n",
       "7879           NCC06        19.00          Low Fat         0.027028   \n",
       "409            DRP35          NaN          Low Fat         0.090427   \n",
       "6596           NCM29        11.50          Low Fat         0.017678   \n",
       "8503           FDQ44        20.50          Low Fat         0.036133   \n",
       "\n",
       "                  Item_Type  Item_MRP Outlet_Identifier  \\\n",
       "514            Baking Goods   49.2034            OUT013   \n",
       "7879              Household  127.0336            OUT049   \n",
       "409             Hard Drinks  126.2336            OUT027   \n",
       "6596     Health and Hygiene  129.2626            OUT045   \n",
       "8503  Fruits and Vegetables  120.1756            OUT035   \n",
       "\n",
       "      Outlet_Establishment_Year Outlet_Size Outlet_Location_Type  \\\n",
       "514                        1987        High               Tier 3   \n",
       "7879                       1999      Medium               Tier 1   \n",
       "409                        1985      Medium               Tier 3   \n",
       "6596                       2002         NaN               Tier 2   \n",
       "8503                       2004       Small               Tier 2   \n",
       "\n",
       "            Outlet_Type  Item_Outlet_Sales  \n",
       "514   Supermarket Type1           729.0510  \n",
       "7879  Supermarket Type1          3962.8416  \n",
       "409   Supermarket Type3          3195.8400  \n",
       "6596  Supermarket Type1          1705.1138  \n",
       "8503  Supermarket Type1          3392.9168  "
      ]
     },
     "execution_count": 49,
     "metadata": {},
     "output_type": "execute_result"
    }
   ],
   "source": [
    "test.head()"
   ]
  },
  {
   "cell_type": "markdown",
   "id": "8e284297-811b-48fc-a2df-561b8032c11a",
   "metadata": {},
   "source": [
    "## Simple Mean (Mean of Item Outlet sales)"
   ]
  },
  {
   "cell_type": "code",
   "execution_count": 56,
   "id": "f0aa8794-ce1b-4db3-8ce0-33ec71a415f9",
   "metadata": {},
   "outputs": [],
   "source": [
    "# Storing simple mean in a new column in the test set as \" Simple Mean\"\n",
    "# test['Simple_Mean']=train['Item_Outlet_Sales'].mean()\n",
    "\n",
    "test = data.iloc[b:,:].copy()\n",
    "test.loc[:,'simple_mean']=train['Item_Outlet_Sales'].mean()"
   ]
  },
  {
   "cell_type": "code",
   "execution_count": 58,
   "id": "6681bd04-e79b-4ef8-9448-18aa85b19151",
   "metadata": {},
   "outputs": [
    {
     "data": {
      "text/plain": [
       "(2131, 13)"
      ]
     },
     "execution_count": 58,
     "metadata": {},
     "output_type": "execute_result"
    }
   ],
   "source": [
    "test.shape"
   ]
  },
  {
   "cell_type": "code",
   "execution_count": 60,
   "id": "74e9c20d-f4cb-459f-88e5-085ce86956e3",
   "metadata": {},
   "outputs": [
    {
     "data": {
      "text/plain": [
       "1368.6145955729774"
      ]
     },
     "execution_count": 60,
     "metadata": {},
     "output_type": "execute_result"
    }
   ],
   "source": [
    "# Calculating MAE\n",
    "from sklearn.metrics import mean_absolute_error as MAE\n",
    "\n",
    "simple_mean_error = MAE(test['Item_Outlet_Sales'],test['simple_mean'])\n",
    "simple_mean_error"
   ]
  },
  {
   "cell_type": "markdown",
   "id": "27541016-f7bb-47e9-9fc9-2b4a393d655f",
   "metadata": {},
   "source": [
    "# Mean Item Outlet Sales with respect to Outlet Type"
   ]
  },
  {
   "cell_type": "code",
   "execution_count": 67,
   "id": "f604035e-2743-442a-8455-3e41f280e1eb",
   "metadata": {},
   "outputs": [
    {
     "name": "stderr",
     "output_type": "stream",
     "text": [
      "C:\\Users\\Admin\\AppData\\Local\\Temp\\ipykernel_19012\\1114340639.py:3: FutureWarning: The provided callable <function mean at 0x000001B589408D60> is currently using DataFrameGroupBy.mean. In a future version of pandas, the provided callable will be used directly. To keep current behavior pass the string \"mean\" instead.\n",
      "  Out_type=pd.pivot_table(train,values='Item_Outlet_Sales',index=['Outlet_Type'],aggfunc=np.mean)\n"
     ]
    },
    {
     "data": {
      "text/html": [
       "<div>\n",
       "<style scoped>\n",
       "    .dataframe tbody tr th:only-of-type {\n",
       "        vertical-align: middle;\n",
       "    }\n",
       "\n",
       "    .dataframe tbody tr th {\n",
       "        vertical-align: top;\n",
       "    }\n",
       "\n",
       "    .dataframe thead th {\n",
       "        text-align: right;\n",
       "    }\n",
       "</style>\n",
       "<table border=\"1\" class=\"dataframe\">\n",
       "  <thead>\n",
       "    <tr style=\"text-align: right;\">\n",
       "      <th></th>\n",
       "      <th>Item_Outlet_Sales</th>\n",
       "    </tr>\n",
       "    <tr>\n",
       "      <th>Outlet_Type</th>\n",
       "      <th></th>\n",
       "    </tr>\n",
       "  </thead>\n",
       "  <tbody>\n",
       "    <tr>\n",
       "      <th>Grocery Store</th>\n",
       "      <td>339.713738</td>\n",
       "    </tr>\n",
       "    <tr>\n",
       "      <th>Supermarket Type1</th>\n",
       "      <td>2269.172538</td>\n",
       "    </tr>\n",
       "    <tr>\n",
       "      <th>Supermarket Type2</th>\n",
       "      <td>1961.889047</td>\n",
       "    </tr>\n",
       "    <tr>\n",
       "      <th>Supermarket Type3</th>\n",
       "      <td>3735.211455</td>\n",
       "    </tr>\n",
       "  </tbody>\n",
       "</table>\n",
       "</div>"
      ],
      "text/plain": [
       "                   Item_Outlet_Sales\n",
       "Outlet_Type                         \n",
       "Grocery Store             339.713738\n",
       "Supermarket Type1        2269.172538\n",
       "Supermarket Type2        1961.889047\n",
       "Supermarket Type3        3735.211455"
      ]
     },
     "execution_count": 67,
     "metadata": {},
     "output_type": "execute_result"
    }
   ],
   "source": [
    "# out_type=pd.pivot_table(train,values='Item_Outlet_Sales',index=['Outlet_type'],aggfunc=np.mean)\n",
    "\n",
    "Out_type=pd.pivot_table(train,values='Item_Outlet_Sales',index=['Outlet_Type'],aggfunc=np.mean)\n",
    "Out_type"
   ]
  },
  {
   "cell_type": "code",
   "execution_count": 69,
   "id": "29337775-f0a9-421e-8451-2cb6a7cbdb62",
   "metadata": {},
   "outputs": [],
   "source": [
    "# Intialize with float to prevent datatype warning\n",
    "\n",
    "test['Out_type_mean']=0.0\n",
    "\n",
    "for i in train['Outlet_Type'].unique():\n",
    "    mean_val=train.loc[train['Outlet_Type']==i, 'Item_Outlet_Sales'].mean()\n",
    "    test.loc[test['Outlet_Type']==i,'Out_type_mean']=mean_val"
   ]
  },
  {
   "cell_type": "code",
   "execution_count": 71,
   "id": "b8134445-517a-4f50-b802-89d88a7985fb",
   "metadata": {},
   "outputs": [
    {
     "data": {
      "text/plain": [
       "(2131, 14)"
      ]
     },
     "execution_count": 71,
     "metadata": {},
     "output_type": "execute_result"
    }
   ],
   "source": [
    "test.shape"
   ]
  },
  {
   "cell_type": "code",
   "execution_count": 73,
   "id": "04045aee-a781-4d31-bf6f-2d1aae34e27b",
   "metadata": {},
   "outputs": [
    {
     "data": {
      "text/html": [
       "<div>\n",
       "<style scoped>\n",
       "    .dataframe tbody tr th:only-of-type {\n",
       "        vertical-align: middle;\n",
       "    }\n",
       "\n",
       "    .dataframe tbody tr th {\n",
       "        vertical-align: top;\n",
       "    }\n",
       "\n",
       "    .dataframe thead th {\n",
       "        text-align: right;\n",
       "    }\n",
       "</style>\n",
       "<table border=\"1\" class=\"dataframe\">\n",
       "  <thead>\n",
       "    <tr style=\"text-align: right;\">\n",
       "      <th></th>\n",
       "      <th>Item_Identifier</th>\n",
       "      <th>Item_Weight</th>\n",
       "      <th>Item_Fat_Content</th>\n",
       "      <th>Item_Visibility</th>\n",
       "      <th>Item_Type</th>\n",
       "      <th>Item_MRP</th>\n",
       "      <th>Outlet_Identifier</th>\n",
       "      <th>Outlet_Establishment_Year</th>\n",
       "      <th>Outlet_Size</th>\n",
       "      <th>Outlet_Location_Type</th>\n",
       "      <th>Outlet_Type</th>\n",
       "      <th>Item_Outlet_Sales</th>\n",
       "      <th>simple_mean</th>\n",
       "      <th>Out_type_mean</th>\n",
       "    </tr>\n",
       "  </thead>\n",
       "  <tbody>\n",
       "    <tr>\n",
       "      <th>514</th>\n",
       "      <td>FDL48</td>\n",
       "      <td>19.35</td>\n",
       "      <td>Regular</td>\n",
       "      <td>0.082198</td>\n",
       "      <td>Baking Goods</td>\n",
       "      <td>49.2034</td>\n",
       "      <td>OUT013</td>\n",
       "      <td>1987</td>\n",
       "      <td>High</td>\n",
       "      <td>Tier 3</td>\n",
       "      <td>Supermarket Type1</td>\n",
       "      <td>729.0510</td>\n",
       "      <td>2154.479628</td>\n",
       "      <td>2269.172538</td>\n",
       "    </tr>\n",
       "    <tr>\n",
       "      <th>7879</th>\n",
       "      <td>NCC06</td>\n",
       "      <td>19.00</td>\n",
       "      <td>Low Fat</td>\n",
       "      <td>0.027028</td>\n",
       "      <td>Household</td>\n",
       "      <td>127.0336</td>\n",
       "      <td>OUT049</td>\n",
       "      <td>1999</td>\n",
       "      <td>Medium</td>\n",
       "      <td>Tier 1</td>\n",
       "      <td>Supermarket Type1</td>\n",
       "      <td>3962.8416</td>\n",
       "      <td>2154.479628</td>\n",
       "      <td>2269.172538</td>\n",
       "    </tr>\n",
       "    <tr>\n",
       "      <th>409</th>\n",
       "      <td>DRP35</td>\n",
       "      <td>NaN</td>\n",
       "      <td>Low Fat</td>\n",
       "      <td>0.090427</td>\n",
       "      <td>Hard Drinks</td>\n",
       "      <td>126.2336</td>\n",
       "      <td>OUT027</td>\n",
       "      <td>1985</td>\n",
       "      <td>Medium</td>\n",
       "      <td>Tier 3</td>\n",
       "      <td>Supermarket Type3</td>\n",
       "      <td>3195.8400</td>\n",
       "      <td>2154.479628</td>\n",
       "      <td>3735.211455</td>\n",
       "    </tr>\n",
       "    <tr>\n",
       "      <th>6596</th>\n",
       "      <td>NCM29</td>\n",
       "      <td>11.50</td>\n",
       "      <td>Low Fat</td>\n",
       "      <td>0.017678</td>\n",
       "      <td>Health and Hygiene</td>\n",
       "      <td>129.2626</td>\n",
       "      <td>OUT045</td>\n",
       "      <td>2002</td>\n",
       "      <td>NaN</td>\n",
       "      <td>Tier 2</td>\n",
       "      <td>Supermarket Type1</td>\n",
       "      <td>1705.1138</td>\n",
       "      <td>2154.479628</td>\n",
       "      <td>2269.172538</td>\n",
       "    </tr>\n",
       "    <tr>\n",
       "      <th>8503</th>\n",
       "      <td>FDQ44</td>\n",
       "      <td>20.50</td>\n",
       "      <td>Low Fat</td>\n",
       "      <td>0.036133</td>\n",
       "      <td>Fruits and Vegetables</td>\n",
       "      <td>120.1756</td>\n",
       "      <td>OUT035</td>\n",
       "      <td>2004</td>\n",
       "      <td>Small</td>\n",
       "      <td>Tier 2</td>\n",
       "      <td>Supermarket Type1</td>\n",
       "      <td>3392.9168</td>\n",
       "      <td>2154.479628</td>\n",
       "      <td>2269.172538</td>\n",
       "    </tr>\n",
       "  </tbody>\n",
       "</table>\n",
       "</div>"
      ],
      "text/plain": [
       "     Item_Identifier  Item_Weight Item_Fat_Content  Item_Visibility  \\\n",
       "514            FDL48        19.35          Regular         0.082198   \n",
       "7879           NCC06        19.00          Low Fat         0.027028   \n",
       "409            DRP35          NaN          Low Fat         0.090427   \n",
       "6596           NCM29        11.50          Low Fat         0.017678   \n",
       "8503           FDQ44        20.50          Low Fat         0.036133   \n",
       "\n",
       "                  Item_Type  Item_MRP Outlet_Identifier  \\\n",
       "514            Baking Goods   49.2034            OUT013   \n",
       "7879              Household  127.0336            OUT049   \n",
       "409             Hard Drinks  126.2336            OUT027   \n",
       "6596     Health and Hygiene  129.2626            OUT045   \n",
       "8503  Fruits and Vegetables  120.1756            OUT035   \n",
       "\n",
       "      Outlet_Establishment_Year Outlet_Size Outlet_Location_Type  \\\n",
       "514                        1987        High               Tier 3   \n",
       "7879                       1999      Medium               Tier 1   \n",
       "409                        1985      Medium               Tier 3   \n",
       "6596                       2002         NaN               Tier 2   \n",
       "8503                       2004       Small               Tier 2   \n",
       "\n",
       "            Outlet_Type  Item_Outlet_Sales  simple_mean  Out_type_mean  \n",
       "514   Supermarket Type1           729.0510  2154.479628    2269.172538  \n",
       "7879  Supermarket Type1          3962.8416  2154.479628    2269.172538  \n",
       "409   Supermarket Type3          3195.8400  2154.479628    3735.211455  \n",
       "6596  Supermarket Type1          1705.1138  2154.479628    2269.172538  \n",
       "8503  Supermarket Type1          3392.9168  2154.479628    2269.172538  "
      ]
     },
     "execution_count": 73,
     "metadata": {},
     "output_type": "execute_result"
    }
   ],
   "source": [
    "test.head()"
   ]
  },
  {
   "cell_type": "code",
   "execution_count": 75,
   "id": "249cca08-a3cc-43e5-8d79-c600c1a27a77",
   "metadata": {},
   "outputs": [
    {
     "data": {
      "text/plain": [
       "1140.4041169399907"
      ]
     },
     "execution_count": 75,
     "metadata": {},
     "output_type": "execute_result"
    }
   ],
   "source": [
    "# Calculating MAE\n",
    "\n",
    "Out_type_error = MAE(test['Item_Outlet_Sales'],test['Out_type_mean'])\n",
    "Out_type_error"
   ]
  },
  {
   "cell_type": "markdown",
   "id": "18676d7f-f6c4-4f1d-b0ed-d4014da2add9",
   "metadata": {},
   "source": [
    "# Mean Item Outlet Sales with respect to Outlet Establishment Year"
   ]
  },
  {
   "cell_type": "code",
   "execution_count": 80,
   "id": "36d35705-b458-4a91-b74e-a656115dcb33",
   "metadata": {},
   "outputs": [
    {
     "name": "stderr",
     "output_type": "stream",
     "text": [
      "C:\\Users\\Admin\\AppData\\Local\\Temp\\ipykernel_19012\\437914238.py:1: FutureWarning: The provided callable <function mean at 0x000001B589408D60> is currently using DataFrameGroupBy.mean. In a future version of pandas, the provided callable will be used directly. To keep current behavior pass the string \"mean\" instead.\n",
      "  Out_year = pd.pivot_table(train,values='Item_Outlet_Sales',index=['Outlet_Establishment_Year'],aggfunc=np.mean)\n"
     ]
    },
    {
     "data": {
      "text/html": [
       "<div>\n",
       "<style scoped>\n",
       "    .dataframe tbody tr th:only-of-type {\n",
       "        vertical-align: middle;\n",
       "    }\n",
       "\n",
       "    .dataframe tbody tr th {\n",
       "        vertical-align: top;\n",
       "    }\n",
       "\n",
       "    .dataframe thead th {\n",
       "        text-align: right;\n",
       "    }\n",
       "</style>\n",
       "<table border=\"1\" class=\"dataframe\">\n",
       "  <thead>\n",
       "    <tr style=\"text-align: right;\">\n",
       "      <th></th>\n",
       "      <th>Item_Outlet_Sales</th>\n",
       "    </tr>\n",
       "    <tr>\n",
       "      <th>Outlet_Establishment_Year</th>\n",
       "      <th></th>\n",
       "    </tr>\n",
       "  </thead>\n",
       "  <tbody>\n",
       "    <tr>\n",
       "      <th>1985</th>\n",
       "      <td>2506.409498</td>\n",
       "    </tr>\n",
       "    <tr>\n",
       "      <th>1987</th>\n",
       "      <td>2255.429990</td>\n",
       "    </tr>\n",
       "    <tr>\n",
       "      <th>1997</th>\n",
       "      <td>2213.285178</td>\n",
       "    </tr>\n",
       "    <tr>\n",
       "      <th>1998</th>\n",
       "      <td>328.811495</td>\n",
       "    </tr>\n",
       "    <tr>\n",
       "      <th>1999</th>\n",
       "      <td>2316.032587</td>\n",
       "    </tr>\n",
       "    <tr>\n",
       "      <th>2002</th>\n",
       "      <td>2163.635786</td>\n",
       "    </tr>\n",
       "    <tr>\n",
       "      <th>2004</th>\n",
       "      <td>2373.476783</td>\n",
       "    </tr>\n",
       "    <tr>\n",
       "      <th>2007</th>\n",
       "      <td>2295.841815</td>\n",
       "    </tr>\n",
       "    <tr>\n",
       "      <th>2009</th>\n",
       "      <td>1961.889047</td>\n",
       "    </tr>\n",
       "  </tbody>\n",
       "</table>\n",
       "</div>"
      ],
      "text/plain": [
       "                           Item_Outlet_Sales\n",
       "Outlet_Establishment_Year                   \n",
       "1985                             2506.409498\n",
       "1987                             2255.429990\n",
       "1997                             2213.285178\n",
       "1998                              328.811495\n",
       "1999                             2316.032587\n",
       "2002                             2163.635786\n",
       "2004                             2373.476783\n",
       "2007                             2295.841815\n",
       "2009                             1961.889047"
      ]
     },
     "execution_count": 80,
     "metadata": {},
     "output_type": "execute_result"
    }
   ],
   "source": [
    "Out_year = pd.pivot_table(train,values='Item_Outlet_Sales',index=['Outlet_Establishment_Year'],aggfunc=np.mean)\n",
    "Out_year"
   ]
  },
  {
   "cell_type": "code",
   "execution_count": 82,
   "id": "aa5feb58-133c-4e8c-885c-7f538f7957b3",
   "metadata": {},
   "outputs": [],
   "source": [
    "# Intialize with float to prevent datatype warning\n",
    "\n",
    "test['Out_year_mean']=0.0\n",
    "\n",
    "for i in train['Outlet_Establishment_Year'].unique():\n",
    "    mean_val=train.loc[train['Outlet_Establishment_Year']==i, 'Item_Outlet_Sales'].mean()\n",
    "    test.loc[test['Outlet_Establishment_Year']==i,'Out_year_mean']=mean_val"
   ]
  },
  {
   "cell_type": "code",
   "execution_count": 84,
   "id": "710eaa78-f5de-468f-a912-df26b7cef6c0",
   "metadata": {},
   "outputs": [
    {
     "data": {
      "text/plain": [
       "(2131, 15)"
      ]
     },
     "execution_count": 84,
     "metadata": {},
     "output_type": "execute_result"
    }
   ],
   "source": [
    "test.shape"
   ]
  },
  {
   "cell_type": "code",
   "execution_count": 88,
   "id": "07dac45d-5e97-4e40-a7d4-9be0eecf1882",
   "metadata": {},
   "outputs": [
    {
     "data": {
      "text/html": [
       "<div>\n",
       "<style scoped>\n",
       "    .dataframe tbody tr th:only-of-type {\n",
       "        vertical-align: middle;\n",
       "    }\n",
       "\n",
       "    .dataframe tbody tr th {\n",
       "        vertical-align: top;\n",
       "    }\n",
       "\n",
       "    .dataframe thead th {\n",
       "        text-align: right;\n",
       "    }\n",
       "</style>\n",
       "<table border=\"1\" class=\"dataframe\">\n",
       "  <thead>\n",
       "    <tr style=\"text-align: right;\">\n",
       "      <th></th>\n",
       "      <th>Item_Identifier</th>\n",
       "      <th>Item_Weight</th>\n",
       "      <th>Item_Fat_Content</th>\n",
       "      <th>Item_Visibility</th>\n",
       "      <th>Item_Type</th>\n",
       "      <th>Item_MRP</th>\n",
       "      <th>Outlet_Identifier</th>\n",
       "      <th>Outlet_Establishment_Year</th>\n",
       "      <th>Outlet_Size</th>\n",
       "      <th>Outlet_Location_Type</th>\n",
       "      <th>Outlet_Type</th>\n",
       "      <th>Item_Outlet_Sales</th>\n",
       "      <th>simple_mean</th>\n",
       "      <th>Out_type_mean</th>\n",
       "      <th>Out_year_mean</th>\n",
       "    </tr>\n",
       "  </thead>\n",
       "  <tbody>\n",
       "    <tr>\n",
       "      <th>514</th>\n",
       "      <td>FDL48</td>\n",
       "      <td>19.35</td>\n",
       "      <td>Regular</td>\n",
       "      <td>0.082198</td>\n",
       "      <td>Baking Goods</td>\n",
       "      <td>49.2034</td>\n",
       "      <td>OUT013</td>\n",
       "      <td>1987</td>\n",
       "      <td>High</td>\n",
       "      <td>Tier 3</td>\n",
       "      <td>Supermarket Type1</td>\n",
       "      <td>729.0510</td>\n",
       "      <td>2154.479628</td>\n",
       "      <td>2269.172538</td>\n",
       "      <td>2255.429990</td>\n",
       "    </tr>\n",
       "    <tr>\n",
       "      <th>7879</th>\n",
       "      <td>NCC06</td>\n",
       "      <td>19.00</td>\n",
       "      <td>Low Fat</td>\n",
       "      <td>0.027028</td>\n",
       "      <td>Household</td>\n",
       "      <td>127.0336</td>\n",
       "      <td>OUT049</td>\n",
       "      <td>1999</td>\n",
       "      <td>Medium</td>\n",
       "      <td>Tier 1</td>\n",
       "      <td>Supermarket Type1</td>\n",
       "      <td>3962.8416</td>\n",
       "      <td>2154.479628</td>\n",
       "      <td>2269.172538</td>\n",
       "      <td>2316.032587</td>\n",
       "    </tr>\n",
       "    <tr>\n",
       "      <th>409</th>\n",
       "      <td>DRP35</td>\n",
       "      <td>NaN</td>\n",
       "      <td>Low Fat</td>\n",
       "      <td>0.090427</td>\n",
       "      <td>Hard Drinks</td>\n",
       "      <td>126.2336</td>\n",
       "      <td>OUT027</td>\n",
       "      <td>1985</td>\n",
       "      <td>Medium</td>\n",
       "      <td>Tier 3</td>\n",
       "      <td>Supermarket Type3</td>\n",
       "      <td>3195.8400</td>\n",
       "      <td>2154.479628</td>\n",
       "      <td>3735.211455</td>\n",
       "      <td>2506.409498</td>\n",
       "    </tr>\n",
       "    <tr>\n",
       "      <th>6596</th>\n",
       "      <td>NCM29</td>\n",
       "      <td>11.50</td>\n",
       "      <td>Low Fat</td>\n",
       "      <td>0.017678</td>\n",
       "      <td>Health and Hygiene</td>\n",
       "      <td>129.2626</td>\n",
       "      <td>OUT045</td>\n",
       "      <td>2002</td>\n",
       "      <td>NaN</td>\n",
       "      <td>Tier 2</td>\n",
       "      <td>Supermarket Type1</td>\n",
       "      <td>1705.1138</td>\n",
       "      <td>2154.479628</td>\n",
       "      <td>2269.172538</td>\n",
       "      <td>2163.635786</td>\n",
       "    </tr>\n",
       "    <tr>\n",
       "      <th>8503</th>\n",
       "      <td>FDQ44</td>\n",
       "      <td>20.50</td>\n",
       "      <td>Low Fat</td>\n",
       "      <td>0.036133</td>\n",
       "      <td>Fruits and Vegetables</td>\n",
       "      <td>120.1756</td>\n",
       "      <td>OUT035</td>\n",
       "      <td>2004</td>\n",
       "      <td>Small</td>\n",
       "      <td>Tier 2</td>\n",
       "      <td>Supermarket Type1</td>\n",
       "      <td>3392.9168</td>\n",
       "      <td>2154.479628</td>\n",
       "      <td>2269.172538</td>\n",
       "      <td>2373.476783</td>\n",
       "    </tr>\n",
       "  </tbody>\n",
       "</table>\n",
       "</div>"
      ],
      "text/plain": [
       "     Item_Identifier  Item_Weight Item_Fat_Content  Item_Visibility  \\\n",
       "514            FDL48        19.35          Regular         0.082198   \n",
       "7879           NCC06        19.00          Low Fat         0.027028   \n",
       "409            DRP35          NaN          Low Fat         0.090427   \n",
       "6596           NCM29        11.50          Low Fat         0.017678   \n",
       "8503           FDQ44        20.50          Low Fat         0.036133   \n",
       "\n",
       "                  Item_Type  Item_MRP Outlet_Identifier  \\\n",
       "514            Baking Goods   49.2034            OUT013   \n",
       "7879              Household  127.0336            OUT049   \n",
       "409             Hard Drinks  126.2336            OUT027   \n",
       "6596     Health and Hygiene  129.2626            OUT045   \n",
       "8503  Fruits and Vegetables  120.1756            OUT035   \n",
       "\n",
       "      Outlet_Establishment_Year Outlet_Size Outlet_Location_Type  \\\n",
       "514                        1987        High               Tier 3   \n",
       "7879                       1999      Medium               Tier 1   \n",
       "409                        1985      Medium               Tier 3   \n",
       "6596                       2002         NaN               Tier 2   \n",
       "8503                       2004       Small               Tier 2   \n",
       "\n",
       "            Outlet_Type  Item_Outlet_Sales  simple_mean  Out_type_mean  \\\n",
       "514   Supermarket Type1           729.0510  2154.479628    2269.172538   \n",
       "7879  Supermarket Type1          3962.8416  2154.479628    2269.172538   \n",
       "409   Supermarket Type3          3195.8400  2154.479628    3735.211455   \n",
       "6596  Supermarket Type1          1705.1138  2154.479628    2269.172538   \n",
       "8503  Supermarket Type1          3392.9168  2154.479628    2269.172538   \n",
       "\n",
       "      Out_year_mean  \n",
       "514     2255.429990  \n",
       "7879    2316.032587  \n",
       "409     2506.409498  \n",
       "6596    2163.635786  \n",
       "8503    2373.476783  "
      ]
     },
     "execution_count": 88,
     "metadata": {},
     "output_type": "execute_result"
    }
   ],
   "source": [
    "test.head()"
   ]
  },
  {
   "cell_type": "code",
   "execution_count": 91,
   "id": "c88618f0-58f8-4471-b657-14492c0de66a",
   "metadata": {},
   "outputs": [
    {
     "data": {
      "text/plain": [
       "1265.3586400330598"
      ]
     },
     "execution_count": 91,
     "metadata": {},
     "output_type": "execute_result"
    }
   ],
   "source": [
    "# Calculating MAE\n",
    "\n",
    "Out_year_error = MAE(test['Item_Outlet_Sales'],test['Out_year_mean'])\n",
    "Out_year_error"
   ]
  },
  {
   "cell_type": "markdown",
   "id": "5fd4d602-a728-48b2-8ba7-7c0c869022b5",
   "metadata": {},
   "source": [
    "# Mean Outlet Sales with respect to Outlet location type"
   ]
  },
  {
   "cell_type": "code",
   "execution_count": 94,
   "id": "3b821010-242f-4f44-b454-5c92be1affcf",
   "metadata": {},
   "outputs": [
    {
     "name": "stderr",
     "output_type": "stream",
     "text": [
      "C:\\Users\\Admin\\AppData\\Local\\Temp\\ipykernel_19012\\233841609.py:1: FutureWarning: The provided callable <function mean at 0x000001B589408D60> is currently using DataFrameGroupBy.mean. In a future version of pandas, the provided callable will be used directly. To keep current behavior pass the string \"mean\" instead.\n",
      "  Out_loc=pd.pivot_table(train,values='Item_Outlet_Sales', index=['Outlet_Location_Type'],aggfunc=np.mean)\n"
     ]
    },
    {
     "data": {
      "text/html": [
       "<div>\n",
       "<style scoped>\n",
       "    .dataframe tbody tr th:only-of-type {\n",
       "        vertical-align: middle;\n",
       "    }\n",
       "\n",
       "    .dataframe tbody tr th {\n",
       "        vertical-align: top;\n",
       "    }\n",
       "\n",
       "    .dataframe thead th {\n",
       "        text-align: right;\n",
       "    }\n",
       "</style>\n",
       "<table border=\"1\" class=\"dataframe\">\n",
       "  <thead>\n",
       "    <tr style=\"text-align: right;\">\n",
       "      <th></th>\n",
       "      <th>Item_Outlet_Sales</th>\n",
       "    </tr>\n",
       "    <tr>\n",
       "      <th>Outlet_Location_Type</th>\n",
       "      <th></th>\n",
       "    </tr>\n",
       "  </thead>\n",
       "  <tbody>\n",
       "    <tr>\n",
       "      <th>Tier 1</th>\n",
       "      <td>1839.154066</td>\n",
       "    </tr>\n",
       "    <tr>\n",
       "      <th>Tier 2</th>\n",
       "      <td>2276.975327</td>\n",
       "    </tr>\n",
       "    <tr>\n",
       "      <th>Tier 3</th>\n",
       "      <td>2281.328336</td>\n",
       "    </tr>\n",
       "  </tbody>\n",
       "</table>\n",
       "</div>"
      ],
      "text/plain": [
       "                      Item_Outlet_Sales\n",
       "Outlet_Location_Type                   \n",
       "Tier 1                      1839.154066\n",
       "Tier 2                      2276.975327\n",
       "Tier 3                      2281.328336"
      ]
     },
     "execution_count": 94,
     "metadata": {},
     "output_type": "execute_result"
    }
   ],
   "source": [
    "Out_loc=pd.pivot_table(train,values='Item_Outlet_Sales', index=['Outlet_Location_Type'],aggfunc=np.mean)\n",
    "Out_loc"
   ]
  },
  {
   "cell_type": "code",
   "execution_count": 96,
   "id": "8487713a-84d4-4df1-be8c-ba02446d01b9",
   "metadata": {},
   "outputs": [],
   "source": [
    "# Intialize with float to avoid dt warning\n",
    "\n",
    "test['Out_loc_mean']=0.0\n",
    "\n",
    "for i in train['Outlet_Location_Type'].unique():\n",
    "    mean_val=train.loc[train['Outlet_Location_Type']==i,'Item_Outlet_Sales'].mean()\n",
    "    test.loc[test['Outlet_Location_Type']==i,'Out_loc_mean']=mean_val"
   ]
  },
  {
   "cell_type": "code",
   "execution_count": 98,
   "id": "ea9f670e-fa1e-419e-9051-31e70164384c",
   "metadata": {},
   "outputs": [
    {
     "data": {
      "text/plain": [
       "1362.9299006313713"
      ]
     },
     "execution_count": 98,
     "metadata": {},
     "output_type": "execute_result"
    }
   ],
   "source": [
    "# Calculating MAE\n",
    "\n",
    "Out_loc_error=MAE(test['Item_Outlet_Sales'],test['Out_loc_mean'])\n",
    "Out_loc_error"
   ]
  },
  {
   "cell_type": "markdown",
   "id": "7b9117be-0b69-475d-b51f-f7ef69f5ae5f",
   "metadata": {},
   "source": [
    "# Plot"
   ]
  },
  {
   "cell_type": "code",
   "execution_count": 101,
   "id": "45bdf55c-b07a-4d8a-b21f-f616be6ab55b",
   "metadata": {},
   "outputs": [],
   "source": [
    "mae_scores={\n",
    "    \"simple_mean_error\": simple_mean_error,\n",
    "    \"Out_type_error\": Out_type_error,\n",
    "    \"Out_year_error\": Out_year_error,\n",
    "    \"Out_loc_error\": Out_loc_error\n",
    "}"
   ]
  },
  {
   "cell_type": "code",
   "execution_count": 105,
   "id": "83bd6c99-5f05-48ba-b669-3e107175b601",
   "metadata": {},
   "outputs": [
    {
     "data": {
      "text/html": [
       "<div>\n",
       "<style scoped>\n",
       "    .dataframe tbody tr th:only-of-type {\n",
       "        vertical-align: middle;\n",
       "    }\n",
       "\n",
       "    .dataframe tbody tr th {\n",
       "        vertical-align: top;\n",
       "    }\n",
       "\n",
       "    .dataframe thead th {\n",
       "        text-align: right;\n",
       "    }\n",
       "</style>\n",
       "<table border=\"1\" class=\"dataframe\">\n",
       "  <thead>\n",
       "    <tr style=\"text-align: right;\">\n",
       "      <th></th>\n",
       "      <th>Model</th>\n",
       "      <th>MAE</th>\n",
       "    </tr>\n",
       "  </thead>\n",
       "  <tbody>\n",
       "    <tr>\n",
       "      <th>1</th>\n",
       "      <td>Out_type_error</td>\n",
       "      <td>1140.404117</td>\n",
       "    </tr>\n",
       "    <tr>\n",
       "      <th>2</th>\n",
       "      <td>Out_year_error</td>\n",
       "      <td>1265.358640</td>\n",
       "    </tr>\n",
       "    <tr>\n",
       "      <th>3</th>\n",
       "      <td>Out_loc_error</td>\n",
       "      <td>1362.929901</td>\n",
       "    </tr>\n",
       "    <tr>\n",
       "      <th>0</th>\n",
       "      <td>simple_mean_error</td>\n",
       "      <td>1368.614596</td>\n",
       "    </tr>\n",
       "  </tbody>\n",
       "</table>\n",
       "</div>"
      ],
      "text/plain": [
       "               Model          MAE\n",
       "1     Out_type_error  1140.404117\n",
       "2     Out_year_error  1265.358640\n",
       "3      Out_loc_error  1362.929901\n",
       "0  simple_mean_error  1368.614596"
      ]
     },
     "execution_count": 105,
     "metadata": {},
     "output_type": "execute_result"
    }
   ],
   "source": [
    "mae_df=pd.DataFrame(list(mae_scores.items()),columns=['Model','MAE']).sort_values(by='MAE')\n",
    "mae_df"
   ]
  },
  {
   "cell_type": "code",
   "execution_count": 1,
   "id": "b9320de5-440d-4dd7-9895-8b738d15ebf5",
   "metadata": {},
   "outputs": [
    {
     "ename": "NameError",
     "evalue": "name 'plt' is not defined",
     "output_type": "error",
     "traceback": [
      "\u001b[1;31m---------------------------------------------------------------------------\u001b[0m",
      "\u001b[1;31mNameError\u001b[0m                                 Traceback (most recent call last)",
      "Cell \u001b[1;32mIn[1], line 1\u001b[0m\n\u001b[1;32m----> 1\u001b[0m plt\u001b[38;5;241m.\u001b[39mfigure(figsize\u001b[38;5;241m=\u001b[39m(\u001b[38;5;241m10\u001b[39m,\u001b[38;5;241m5\u001b[39m))\n\u001b[0;32m      2\u001b[0m plt\u001b[38;5;241m.\u001b[39mbarh(mae_df[\u001b[38;5;124m'\u001b[39m\u001b[38;5;124mModel\u001b[39m\u001b[38;5;124m'\u001b[39m],mae_df[\u001b[38;5;124m'\u001b[39m\u001b[38;5;124mMAE\u001b[39m\u001b[38;5;124m'\u001b[39m],color\u001b[38;5;241m=\u001b[39m\u001b[38;5;124m'\u001b[39m\u001b[38;5;124mpurple\u001b[39m\u001b[38;5;124m'\u001b[39m)\n\u001b[0;32m      3\u001b[0m plt\u001b[38;5;241m.\u001b[39mxlabel(\u001b[38;5;124m'\u001b[39m\u001b[38;5;124mMAE\u001b[39m\u001b[38;5;124m'\u001b[39m)\n",
      "\u001b[1;31mNameError\u001b[0m: name 'plt' is not defined"
     ]
    }
   ],
   "source": [
    "plt.figure(figsize=(10,5))\n",
    "plt.barh(mae_df['Model'],mae_df['MAE'],color='purple')\n",
    "plt.xlabel('MAE')\n",
    "plt.ylabel('Model')\n",
    "plt.title('MAE Scores')\n",
    "plt.gca().invert_yaxis()\n",
    "plt.show()"
   ]
  },
  {
   "cell_type": "code",
   "execution_count": null,
   "id": "74f9e09a-3637-412e-ab26-ec42886167b8",
   "metadata": {},
   "outputs": [],
   "source": []
  }
 ],
 "metadata": {
  "kernelspec": {
   "display_name": "Python [conda env:base] *",
   "language": "python",
   "name": "conda-base-py"
  },
  "language_info": {
   "codemirror_mode": {
    "name": "ipython",
    "version": 3
   },
   "file_extension": ".py",
   "mimetype": "text/x-python",
   "name": "python",
   "nbconvert_exporter": "python",
   "pygments_lexer": "ipython3",
   "version": "3.12.7"
  }
 },
 "nbformat": 4,
 "nbformat_minor": 5
}
